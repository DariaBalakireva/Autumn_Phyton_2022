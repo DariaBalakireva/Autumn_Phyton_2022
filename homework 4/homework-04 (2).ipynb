{
 "cells": [
  {
   "cell_type": "markdown",
   "metadata": {},
   "source": [
    "# Домашнее задание 4 - предобработка признаков, pandas\n",
    "\n",
    "### Выполнила: Балакирева Дарья Сергеевна, НПМбд-01-19б\n",
    "\n",
    "Дата выдачи: 28.09.2022\n",
    "\n",
    "Срок сдачи: 09.10.2022 23:59 MSK\n",
    "\n",
    "### О задании\n",
    "\n",
    "Практическое задание 1 посвящено изучению основных библиотек для анализа данных, а также линейных моделей и методов их обучения. Вы научитесь:\n",
    " * применять библиотеки NumPy и Pandas для осуществления желаемых преобразований;\n",
    " * подготавливать данные для обучения линейных моделей;\n",
    " * обучать линейную, Lasso и Ridge-регрессии при помощи модуля scikit-learn;\n",
    " * реализовывать обычный и стохастический градиентные спуски;\n",
    " * обучать линейную регрессию для произвольного функционала качества.\n",
    " \n",
    "\n",
    "### Оценивание и штрафы\n",
    "\n",
    "Каждая из задач имеет определенную «стоимость» (указана в скобках около задачи). Максимально допустимая оценка за работу — 10 баллов. Кроме того, некоторые из заданий являются опциональными (необязательными), однако за их выполнение можно получить дополнительные баллы, которые позднее будут учитываться при проставлении оценок автоматом по курсу.\n",
    "\n",
    "Сдавать задание после указанного срока сдачи нельзя. При выставлении неполного балла за задание в связи с наличием ошибок на усмотрение проверяющего предусмотрена возможность исправить работу на указанных в ответном письме условиях.\n",
    "\n",
    "Задание выполняется самостоятельно. «Похожие» решения считаются плагиатом и все задействованные студенты (в том числе те, у кого списали) не могут получить за него больше 0 баллов (подробнее о плагиате см. на странице курса). Если вы нашли решение какого-то из заданий (или его часть) в открытом источнике, необходимо указать ссылку на этот источник в отдельном блоке в конце Вашей работы (скорее всего вы будете не единственным, кто это нашел, поэтому чтобы исключить подозрение в плагиате, необходима ссылка на источник). \n",
    "\n",
    "Неэффективная реализация кода может негативно отразиться на оценке.\n",
    "\n",
    "\n",
    "### Формат сдачи\n",
    "Для сдачи задания переименуйте получившийся файл \\*.ipynb в соответствии со следующим форматом: *HW4_Username.ipynb*, где *Username* — Ваша фамилия и инициалы на латинице (например, *HW4_IvanovII.ipynb*). Необходимо выложить файл с решением в свой репозиторий github."
   ]
  },
  {
   "cell_type": "markdown",
   "metadata": {},
   "source": [
    "## Библиотеки для анализа данных\n",
    "\n",
    "### NumPy\n",
    "\n",
    "Во всех заданиях данного раздела запрещено использовать циклы  и list comprehensions. Под вектором и матрицей в данных заданиях понимается одномерный и двумерный numpy.array соответственно."
   ]
  },
  {
   "cell_type": "code",
   "execution_count": 106,
   "metadata": {},
   "outputs": [],
   "source": [
    "import numpy as np"
   ]
  },
  {
   "cell_type": "markdown",
   "metadata": {},
   "source": [
    "**1. (0.2 балла)** Реализуйте функцию, возвращающую максимальный элемент в векторе x среди элементов, перед которыми стоит нулевой. Для x = np.array([6, 2, 0, 3, 0, 0, 5, 7, 0]) ответом является 5. Если нулевых элементов нет, функция должна возвращать None.\n"
   ]
  },
  {
   "cell_type": "code",
   "execution_count": 108,
   "metadata": {},
   "outputs": [],
   "source": [
    "def max_element(arr):\n",
    "    x_max = np.amin(arr)\n",
    "    s = 0\n",
    "    for i in range(1, len(arr)):\n",
    "        if arr[i-1] == 0 and x_max <= arr[i]:\n",
    "            x_max = arr[i]\n",
    "            s = s + 1\n",
    "    if s == 0:\n",
    "        return None\n",
    "    else:\n",
    "        return x_max"
   ]
  },
  {
   "cell_type": "code",
   "execution_count": 109,
   "metadata": {},
   "outputs": [
    {
     "name": "stdout",
     "output_type": "stream",
     "text": [
      "10\n"
     ]
    }
   ],
   "source": [
    "x = np.array([6, 2, 0, 10, 0, 0, 8, 7, 0])\n",
    "print(max_element(x))"
   ]
  },
  {
   "cell_type": "code",
   "execution_count": 110,
   "metadata": {},
   "outputs": [
    {
     "name": "stdout",
     "output_type": "stream",
     "text": [
      "5\n"
     ]
    }
   ],
   "source": [
    "x = np.array([6, 2, 0, 3, 0, 0, 5, 7, 0]) \n",
    "print(max_element(x))"
   ]
  },
  {
   "cell_type": "markdown",
   "metadata": {},
   "source": [
    "**2. (0.2 балла)** Реализуйте функцию, принимающую на вход матрицу и некоторое число и возвращающую ближайший к числу элемент матрицы. Например: для X = np.arange(0,10).reshape((2, 5)) и v = 3.6 ответом будет 4."
   ]
  },
  {
   "cell_type": "code",
   "execution_count": 5,
   "metadata": {},
   "outputs": [],
   "source": [
    "def nearest_value(X, v):\n",
    "    return np.argmin(np.abs(X-v))"
   ]
  },
  {
   "cell_type": "code",
   "execution_count": 6,
   "metadata": {},
   "outputs": [
    {
     "data": {
      "text/plain": [
       "4"
      ]
     },
     "execution_count": 6,
     "metadata": {},
     "output_type": "execute_result"
    }
   ],
   "source": [
    "X = np.arange(0,10).reshape((2, 5)) \n",
    "v = 3.6\n",
    "nearest_value(X, v)"
   ]
  },
  {
   "cell_type": "markdown",
   "metadata": {},
   "source": [
    "**3. (0.2 балла)** Реализуйте функцию scale(X), которая принимает на вход матрицу и масштабирует каждый ее столбец (вычитает выборочное среднее и делит на стандартное отклонение). Убедитесь, что в функции не будет происходить деления на ноль. Протестируйте на случайной матрице (для её генерации можно использовать, например, функцию [numpy.random.randint](http://docs.scipy.org/doc/numpy/reference/generated/numpy.random.randint.html))."
   ]
  },
  {
   "cell_type": "code",
   "execution_count": 7,
   "metadata": {},
   "outputs": [],
   "source": [
    "def scale(X):\n",
    "    \n",
    "    s_d = X.std(axis=0)\n",
    "    s_d[s_d == 0] = 1\n",
    "                                        # выборочное среднее\n",
    "    X = X - X.mean(axis=0)\n",
    "    X /= s_d\n",
    "    \n",
    "    return X"
   ]
  },
  {
   "cell_type": "code",
   "execution_count": 8,
   "metadata": {},
   "outputs": [
    {
     "data": {
      "text/plain": [
       "array([[ 0.84852814, -1.5666989 ,  1.64345203,  0.21821789],\n",
       "       [-1.13137085,  0.87038828, -0.29002095, -0.65465367],\n",
       "       [-0.84852814,  0.87038828, -0.29002095, -1.09108945],\n",
       "       [ 1.13137085, -0.17407766, -1.06341014,  1.52752523]])"
      ]
     },
     "execution_count": 8,
     "metadata": {},
     "output_type": "execute_result"
    }
   ],
   "source": [
    "X = np.random.randint(1, 10, size=(4,4))\n",
    "scale(X)"
   ]
  },
  {
   "cell_type": "markdown",
   "metadata": {},
   "source": [
    "**4. (0.2 балла)** Реализуйте функцию, которая для заданной матрицы находит:\n",
    " - определитель\n",
    " - след\n",
    " - наименьший и наибольший элементы\n",
    " - норму Фробениуса\n",
    " - собственные числа\n",
    " - обратную матрицу\n",
    "\n",
    "Для тестирования сгенерируйте матрицу с элементами из нормального распределения $\\mathcal{N}$(10,1)"
   ]
  },
  {
   "cell_type": "code",
   "execution_count": 104,
   "metadata": {},
   "outputs": [],
   "source": [
    "def get_stats(X):\n",
    "    \n",
    "    print('определитель: ', np.linalg.det(X).round(8))\n",
    "    print('след: ', np.trace(X).round(8))\n",
    "    print('наименьший элемент: ', np.min(X).round(8))\n",
    "    print('наибольший элемент: ', np.max(X).round(8))\n",
    "    print('норма Фробениуса:', np.linalg.norm(X, ord='fro').round(8))\n",
    "    print('собственные числа: ', np.linalg.eigvals(X))\n",
    "    print('Обратная матрица: ', np.linalg.inv(X).round(8))\n",
    "                      \n",
    "    return"
   ]
  },
  {
   "cell_type": "code",
   "execution_count": 20,
   "metadata": {},
   "outputs": [
    {
     "name": "stdout",
     "output_type": "stream",
     "text": [
      "определитель:  -0.20954822\n",
      "след:  36.78988134\n",
      "наименьший элемент:  8.06312091\n",
      "наибольший элемент:  11.41031477\n",
      "норма Фробениуса: 39.42422437\n",
      "собственные числа:  [39.24105992+0.j         -2.52991324+0.j          0.03936733+0.02368475j\n",
      "  0.03936733-0.02368475j]\n",
      "Обратная матрица:  [[-111.30076799   -8.03962313   -6.13413603  130.92864567]\n",
      " [ -82.0460177    -6.72637958   -4.08405121   96.91196058]\n",
      " [ 296.15779084   23.28092269   14.84271035 -348.76048483]\n",
      " [-119.06062559   -9.82007092   -5.36553324  140.11632607]]\n"
     ]
    }
   ],
   "source": [
    "X = np.random.normal(10, 1, (4, 4))\n",
    "get_stats(X)"
   ]
  },
  {
   "cell_type": "markdown",
   "metadata": {},
   "source": [
    "**5. (0.2 балла)** Повторите 100 раз следующий эксперимент: сгенерируйте две матрицы размера 10×10 из стандартного нормального распределения, перемножьте их (как матрицы) и найдите максимальный элемент. Какое среднее значение по экспериментам у максимальных элементов? 95-процентная квантиль?"
   ]
  },
  {
   "cell_type": "code",
   "execution_count": 23,
   "metadata": {},
   "outputs": [
    {
     "name": "stdout",
     "output_type": "stream",
     "text": [
      "Cреднее значение по экспериментам у максимальных элементов:  8.398869519523409\n",
      "95-процентная квантиль 8.501507459108474\n"
     ]
    }
   ],
   "source": [
    "e = np.empty(100)\n",
    "\n",
    "for exp_num in range(100):\n",
    "    X = np.empty(1000)\n",
    "\n",
    "    for i in range(1000):\n",
    "        x1 = np.random.normal(0, 1, (10, 10))\n",
    "        x2 = np.random.normal(0, 1, (10, 10))\n",
    "        X[i] = np.max(x1.dot(x2))\n",
    "        \n",
    "    e[exp_num] = np.average(X)\n",
    "        \n",
    "print('Cреднее значение по экспериментам у максимальных элементов: ', np.average(exp))\n",
    "print('95-процентная квантиль', np.percentile(exp, 95))"
   ]
  },
  {
   "cell_type": "markdown",
   "metadata": {},
   "source": [
    "### Pandas\n",
    "\n",
    "![](https://metrouk2.files.wordpress.com/2015/10/panda.jpg)\n",
    "\n",
    "#### Ответьте на вопросы о данных по авиарейсам в США за январь-апрель 2008 года.\n",
    "\n",
    "[Данные](https://www.dropbox.com/s/dvfitn93obn0rql/2008.csv?dl=0) и их [описание](http://stat-computing.org/dataexpo/2009/the-data.html)"
   ]
  },
  {
   "cell_type": "markdown",
   "metadata": {},
   "source": [
    "Airline on-time performance\n",
    "\n",
    "Have you ever been stuck in an airport because your flight was delayed or cancelled and wondered if you could have predicted it if you'd had more data? This is your chance to find out.\n",
    "\n",
    "The data\n",
    "The data set is available for download here.\n",
    "The data consists of flight arrival and departure details for all commercial flights within the USA, from October 1987 to April 2008. This is a large dataset: there are nearly 120 million records in total, and takes up 1.6 gigabytes of space compressed and 12 gigabytes when uncompressed.\n",
    "\n",
    "Understanding and preparing the data\n",
    "In order to answer above questions, we are going to analyze the provided dataset, containing up to 1936758 ### different internal flights in the US for 2008 and their causes for delay, diversion and cancellation\n",
    "\n",
    "The data comes from the U.S. Department of Transportation’s (DOT) Bureau of Transportation Statistics (BTS). Meta data explanations\n",
    "\n",
    "This dataset is composed by the following variables:\n",
    "\n",
    "**Year** 2008 **Month** 1-12 **DayofMonth** 1-31 **DayOfWeek** 1 (Monday) - 7 (Sunday)  \n",
    "**DepTime** actual departure time (local, hhmm)  \n",
    "**CRSDepTime** scheduled departure time (local, hhmm)  \n",
    "**ArrTime** actual arrival time (local, hhmm)  \n",
    "**CRSArrTime** scheduled arrival time (local, hhmm)  \n",
    "**UniqueCarrier** unique carrier code  \n",
    "**FlightNum** flight number  \n",
    "**TailNum** plane tail number: aircraft registration, unique aircraft identifier  \n",
    "**ActualElapsedTime** in minutes  \n",
    "**CRSElapsedTime** in minutes  \n",
    "**AirTime** in minutes  \n",
    "**ArrDelay** arrival delay, in minutes: A flight is counted as “on time” if it operated less than 15 minutes later the scheduled time shown in the carriers’ Computerized Reservations Systems (CRS).  \n",
    "**DepDelay** departure delay, in minutes  \n",
    "**Origin** origin IATA airport code  \n",
    "**Dest** destination IATA airport code  \n",
    "**Distance** in miles  \n",
    "**TaxiIn** taxi in time, in minutes  \n",
    "**TaxiOut** taxi out time in minutes  \n",
    "**Cancelled** *was the flight cancelled  \n",
    "**CancellationCode** reason for cancellation (A = carrier, B = weather, C = NAS, D = security)  \n",
    "**Diverted** 1 = yes, 0 = no  \n",
    "**CarrierDelay** in minutes: Carrier delay is within the control of the air carrier. Examples of occurrences that may determine carrier delay are: aircraft cleaning, aircraft damage, awaiting the arrival of connecting passengers or crew, baggage, bird strike, cargo loading, catering, computer, outage-carrier equipment, crew legality (pilot or attendant rest), damage by hazardous goods, engineering inspection, fueling, handling disabled passengers, late crew, lavatory servicing, maintenance, oversales, potable water servicing, removal of unruly passenger, slow boarding or seating, stowing carry-on baggage, weight and balance delays.  \n",
    "**WeatherDelay** in minutes: Weather delay is caused by extreme or hazardous weather conditions that are forecasted or manifest themselves on point of departure, enroute, or on point of arrival.  \n",
    "**NASDelay** in minutes: Delay that is within the control of the National Airspace System (NAS) may include: non-extreme weather conditions, airport operations, heavy traffic volume, air traffic control, etc.  \n",
    "**SecurityDelay** in minutes: Security delay is caused by evacuation of a terminal or concourse, re-boarding of aircraft because of security breach, inoperative screening equipment and/or long lines in excess of 29 minutes at screening areas.  \n",
    "**LateAircraftDelay** in minutes: Arrival delay at an airport due to the late arrival of the same aircraft at a previous airport. The ripple effect of an earlier delay at downstream airports is referred to as delay propagation."
   ]
  },
  {
   "cell_type": "code",
   "execution_count": 4,
   "metadata": {},
   "outputs": [],
   "source": [
    "import pandas as pd\n",
    "%matplotlib inline\n",
    "data = pd.read_csv('2008.csv')"
   ]
  },
  {
   "cell_type": "markdown",
   "metadata": {},
   "source": [
    "**6. (0.3 балла)** Какая из причин отмены рейса (`CancellationCode`) была самой частой? (расшифровки кодов можно найти в описании данных)"
   ]
  },
  {
   "cell_type": "code",
   "execution_count": 5,
   "metadata": {},
   "outputs": [
    {
     "data": {
      "text/plain": [
       "'A'"
      ]
     },
     "execution_count": 5,
     "metadata": {},
     "output_type": "execute_result"
    }
   ],
   "source": [
    "data['CancellationCode'].value_counts().idxmax()"
   ]
  },
  {
   "cell_type": "markdown",
   "metadata": {},
   "source": [
    "**7. (0.3 балла)** Найдите среднее, минимальное и максимальное расстояние, пройденное самолетом."
   ]
  },
  {
   "cell_type": "code",
   "execution_count": 6,
   "metadata": {},
   "outputs": [
    {
     "name": "stdout",
     "output_type": "stream",
     "text": [
      "max =  4962\n",
      "min =  31\n",
      "mean =  724.5082571428571\n"
     ]
    }
   ],
   "source": [
    "print('max = ', data['Distance'].max())\n",
    "print('min = ', data['Distance'].min())\n",
    "print('mean = ', data['Distance'].mean())"
   ]
  },
  {
   "cell_type": "markdown",
   "metadata": {},
   "source": [
    "**8. (0.3 балла)** Не выглядит ли подозрительным минимальное пройденное расстояние? В какие дни и на каких рейсах оно было? Какое расстояние было пройдено этими же рейсами в другие дни?"
   ]
  },
  {
   "cell_type": "code",
   "execution_count": 7,
   "metadata": {},
   "outputs": [
    {
     "data": {
      "text/html": [
       "<div>\n",
       "<style scoped>\n",
       "    .dataframe tbody tr th:only-of-type {\n",
       "        vertical-align: middle;\n",
       "    }\n",
       "\n",
       "    .dataframe tbody tr th {\n",
       "        vertical-align: top;\n",
       "    }\n",
       "\n",
       "    .dataframe thead th {\n",
       "        text-align: right;\n",
       "    }\n",
       "</style>\n",
       "<table border=\"1\" class=\"dataframe\">\n",
       "  <thead>\n",
       "    <tr style=\"text-align: right;\">\n",
       "      <th></th>\n",
       "      <th>FlightNum</th>\n",
       "      <th>Year</th>\n",
       "      <th>Month</th>\n",
       "      <th>DayofMonth</th>\n",
       "      <th>Distance</th>\n",
       "    </tr>\n",
       "  </thead>\n",
       "  <tbody>\n",
       "    <tr>\n",
       "      <th>1116</th>\n",
       "      <td>65</td>\n",
       "      <td>2008</td>\n",
       "      <td>12</td>\n",
       "      <td>30</td>\n",
       "      <td>31</td>\n",
       "    </tr>\n",
       "    <tr>\n",
       "      <th>6958</th>\n",
       "      <td>65</td>\n",
       "      <td>2008</td>\n",
       "      <td>12</td>\n",
       "      <td>26</td>\n",
       "      <td>31</td>\n",
       "    </tr>\n",
       "    <tr>\n",
       "      <th>17349</th>\n",
       "      <td>64</td>\n",
       "      <td>2008</td>\n",
       "      <td>8</td>\n",
       "      <td>18</td>\n",
       "      <td>31</td>\n",
       "    </tr>\n",
       "    <tr>\n",
       "      <th>27534</th>\n",
       "      <td>64</td>\n",
       "      <td>2008</td>\n",
       "      <td>3</td>\n",
       "      <td>11</td>\n",
       "      <td>31</td>\n",
       "    </tr>\n",
       "    <tr>\n",
       "      <th>46082</th>\n",
       "      <td>65</td>\n",
       "      <td>2008</td>\n",
       "      <td>8</td>\n",
       "      <td>9</td>\n",
       "      <td>31</td>\n",
       "    </tr>\n",
       "    <tr>\n",
       "      <th>48112</th>\n",
       "      <td>64</td>\n",
       "      <td>2008</td>\n",
       "      <td>2</td>\n",
       "      <td>28</td>\n",
       "      <td>31</td>\n",
       "    </tr>\n",
       "  </tbody>\n",
       "</table>\n",
       "</div>"
      ],
      "text/plain": [
       "       FlightNum  Year  Month  DayofMonth  Distance\n",
       "1116          65  2008     12          30        31\n",
       "6958          65  2008     12          26        31\n",
       "17349         64  2008      8          18        31\n",
       "27534         64  2008      3          11        31\n",
       "46082         65  2008      8           9        31\n",
       "48112         64  2008      2          28        31"
      ]
     },
     "execution_count": 7,
     "metadata": {},
     "output_type": "execute_result"
    }
   ],
   "source": [
    "data.loc[data['Distance'] == 31, ['FlightNum', 'Year', 'Month', 'DayofMonth', 'Distance']]"
   ]
  },
  {
   "cell_type": "code",
   "execution_count": 8,
   "metadata": {},
   "outputs": [
    {
     "data": {
      "text/html": [
       "<div>\n",
       "<style scoped>\n",
       "    .dataframe tbody tr th:only-of-type {\n",
       "        vertical-align: middle;\n",
       "    }\n",
       "\n",
       "    .dataframe tbody tr th {\n",
       "        vertical-align: top;\n",
       "    }\n",
       "\n",
       "    .dataframe thead th {\n",
       "        text-align: right;\n",
       "    }\n",
       "</style>\n",
       "<table border=\"1\" class=\"dataframe\">\n",
       "  <thead>\n",
       "    <tr style=\"text-align: right;\">\n",
       "      <th></th>\n",
       "      <th>FlightNum</th>\n",
       "      <th>Year</th>\n",
       "      <th>Month</th>\n",
       "      <th>DayofMonth</th>\n",
       "      <th>Distance</th>\n",
       "    </tr>\n",
       "  </thead>\n",
       "  <tbody>\n",
       "    <tr>\n",
       "      <th>501</th>\n",
       "      <td>64</td>\n",
       "      <td>2008</td>\n",
       "      <td>3</td>\n",
       "      <td>20</td>\n",
       "      <td>533</td>\n",
       "    </tr>\n",
       "    <tr>\n",
       "      <th>1116</th>\n",
       "      <td>65</td>\n",
       "      <td>2008</td>\n",
       "      <td>12</td>\n",
       "      <td>30</td>\n",
       "      <td>31</td>\n",
       "    </tr>\n",
       "    <tr>\n",
       "      <th>1389</th>\n",
       "      <td>64</td>\n",
       "      <td>2008</td>\n",
       "      <td>3</td>\n",
       "      <td>13</td>\n",
       "      <td>680</td>\n",
       "    </tr>\n",
       "    <tr>\n",
       "      <th>1517</th>\n",
       "      <td>65</td>\n",
       "      <td>2008</td>\n",
       "      <td>7</td>\n",
       "      <td>10</td>\n",
       "      <td>680</td>\n",
       "    </tr>\n",
       "    <tr>\n",
       "      <th>2619</th>\n",
       "      <td>64</td>\n",
       "      <td>2008</td>\n",
       "      <td>5</td>\n",
       "      <td>23</td>\n",
       "      <td>2381</td>\n",
       "    </tr>\n",
       "    <tr>\n",
       "      <th>...</th>\n",
       "      <td>...</td>\n",
       "      <td>...</td>\n",
       "      <td>...</td>\n",
       "      <td>...</td>\n",
       "      <td>...</td>\n",
       "    </tr>\n",
       "    <tr>\n",
       "      <th>66529</th>\n",
       "      <td>65</td>\n",
       "      <td>2008</td>\n",
       "      <td>12</td>\n",
       "      <td>21</td>\n",
       "      <td>82</td>\n",
       "    </tr>\n",
       "    <tr>\n",
       "      <th>67172</th>\n",
       "      <td>64</td>\n",
       "      <td>2008</td>\n",
       "      <td>3</td>\n",
       "      <td>22</td>\n",
       "      <td>533</td>\n",
       "    </tr>\n",
       "    <tr>\n",
       "      <th>68264</th>\n",
       "      <td>65</td>\n",
       "      <td>2008</td>\n",
       "      <td>9</td>\n",
       "      <td>7</td>\n",
       "      <td>386</td>\n",
       "    </tr>\n",
       "    <tr>\n",
       "      <th>68338</th>\n",
       "      <td>65</td>\n",
       "      <td>2008</td>\n",
       "      <td>8</td>\n",
       "      <td>3</td>\n",
       "      <td>2454</td>\n",
       "    </tr>\n",
       "    <tr>\n",
       "      <th>69305</th>\n",
       "      <td>65</td>\n",
       "      <td>2008</td>\n",
       "      <td>1</td>\n",
       "      <td>5</td>\n",
       "      <td>1005</td>\n",
       "    </tr>\n",
       "  </tbody>\n",
       "</table>\n",
       "<p>78 rows × 5 columns</p>\n",
       "</div>"
      ],
      "text/plain": [
       "       FlightNum  Year  Month  DayofMonth  Distance\n",
       "501           64  2008      3          20       533\n",
       "1116          65  2008     12          30        31\n",
       "1389          64  2008      3          13       680\n",
       "1517          65  2008      7          10       680\n",
       "2619          64  2008      5          23      2381\n",
       "...          ...   ...    ...         ...       ...\n",
       "66529         65  2008     12          21        82\n",
       "67172         64  2008      3          22       533\n",
       "68264         65  2008      9           7       386\n",
       "68338         65  2008      8           3      2454\n",
       "69305         65  2008      1           5      1005\n",
       "\n",
       "[78 rows x 5 columns]"
      ]
     },
     "execution_count": 8,
     "metadata": {},
     "output_type": "execute_result"
    }
   ],
   "source": [
    "data.loc[(data['FlightNum'] == 64) | (data['FlightNum'] == 65), ['FlightNum', 'Year', 'Month', 'DayofMonth', 'Distance']]"
   ]
  },
  {
   "cell_type": "markdown",
   "metadata": {},
   "source": [
    "**9. (0.3 балла)** Из какого аэропорта было произведено больше всего вылетов? В каком городе он находится?"
   ]
  },
  {
   "cell_type": "code",
   "execution_count": 9,
   "metadata": {},
   "outputs": [
    {
     "data": {
      "text/plain": [
       "'ATL'"
      ]
     },
     "execution_count": 9,
     "metadata": {},
     "output_type": "execute_result"
    }
   ],
   "source": [
    "data['Origin'].value_counts().idxmax()"
   ]
  },
  {
   "cell_type": "markdown",
   "metadata": {},
   "source": [
    "**10. (0.3 балла)** Найдите для каждого аэропорта среднее время полета (`AirTime`) по всем вылетевшим из него рейсам. Какой аэропорт имеет наибольшее значение этого показателя?"
   ]
  },
  {
   "cell_type": "code",
   "execution_count": 10,
   "metadata": {},
   "outputs": [
    {
     "data": {
      "text/html": [
       "<div>\n",
       "<style scoped>\n",
       "    .dataframe tbody tr th:only-of-type {\n",
       "        vertical-align: middle;\n",
       "    }\n",
       "\n",
       "    .dataframe tbody tr th {\n",
       "        vertical-align: top;\n",
       "    }\n",
       "\n",
       "    .dataframe thead th {\n",
       "        text-align: right;\n",
       "    }\n",
       "</style>\n",
       "<table border=\"1\" class=\"dataframe\">\n",
       "  <thead>\n",
       "    <tr style=\"text-align: right;\">\n",
       "      <th></th>\n",
       "      <th>AirTime</th>\n",
       "    </tr>\n",
       "    <tr>\n",
       "      <th>Origin</th>\n",
       "      <th></th>\n",
       "    </tr>\n",
       "  </thead>\n",
       "  <tbody>\n",
       "    <tr>\n",
       "      <th>GST</th>\n",
       "      <td>13.000000</td>\n",
       "    </tr>\n",
       "    <tr>\n",
       "      <th>WRG</th>\n",
       "      <td>18.000000</td>\n",
       "    </tr>\n",
       "    <tr>\n",
       "      <th>OXR</th>\n",
       "      <td>19.666667</td>\n",
       "    </tr>\n",
       "    <tr>\n",
       "      <th>PSG</th>\n",
       "      <td>20.250000</td>\n",
       "    </tr>\n",
       "    <tr>\n",
       "      <th>MKG</th>\n",
       "      <td>21.500000</td>\n",
       "    </tr>\n",
       "    <tr>\n",
       "      <th>...</th>\n",
       "      <td>...</td>\n",
       "    </tr>\n",
       "    <tr>\n",
       "      <th>STT</th>\n",
       "      <td>185.029412</td>\n",
       "    </tr>\n",
       "    <tr>\n",
       "      <th>PSE</th>\n",
       "      <td>191.875000</td>\n",
       "    </tr>\n",
       "    <tr>\n",
       "      <th>BQN</th>\n",
       "      <td>193.954545</td>\n",
       "    </tr>\n",
       "    <tr>\n",
       "      <th>SJU</th>\n",
       "      <td>205.200000</td>\n",
       "    </tr>\n",
       "    <tr>\n",
       "      <th>DLG</th>\n",
       "      <td>NaN</td>\n",
       "    </tr>\n",
       "  </tbody>\n",
       "</table>\n",
       "<p>297 rows × 1 columns</p>\n",
       "</div>"
      ],
      "text/plain": [
       "           AirTime\n",
       "Origin            \n",
       "GST      13.000000\n",
       "WRG      18.000000\n",
       "OXR      19.666667\n",
       "PSG      20.250000\n",
       "MKG      21.500000\n",
       "...            ...\n",
       "STT     185.029412\n",
       "PSE     191.875000\n",
       "BQN     193.954545\n",
       "SJU     205.200000\n",
       "DLG            NaN\n",
       "\n",
       "[297 rows x 1 columns]"
      ]
     },
     "execution_count": 10,
     "metadata": {},
     "output_type": "execute_result"
    }
   ],
   "source": [
    "data.loc[:, ['Origin', 'AirTime']].groupby(['Origin']).agg('mean').sort_values(by='AirTime')"
   ]
  },
  {
   "cell_type": "markdown",
   "metadata": {},
   "source": [
    "**11. (0.5 балла)** Найдите аэропорт, у которого наибольшая доля задержанных (`DepDelay > 0`) рейсов. Исключите при этом из рассмотрения аэропорты, из которых было отправлено меньше 1000 рейсов (используйте функцию `filter` после `groupby`)."
   ]
  },
  {
   "cell_type": "code",
   "execution_count": 84,
   "metadata": {},
   "outputs": [
    {
     "data": {
      "text/html": [
       "<div>\n",
       "<style scoped>\n",
       "    .dataframe tbody tr th:only-of-type {\n",
       "        vertical-align: middle;\n",
       "    }\n",
       "\n",
       "    .dataframe tbody tr th {\n",
       "        vertical-align: top;\n",
       "    }\n",
       "\n",
       "    .dataframe thead th {\n",
       "        text-align: right;\n",
       "    }\n",
       "</style>\n",
       "<table border=\"1\" class=\"dataframe\">\n",
       "  <thead>\n",
       "    <tr style=\"text-align: right;\">\n",
       "      <th></th>\n",
       "    </tr>\n",
       "    <tr>\n",
       "      <th>Origin</th>\n",
       "    </tr>\n",
       "  </thead>\n",
       "  <tbody>\n",
       "    <tr>\n",
       "      <td>ABE</td>\n",
       "    </tr>\n",
       "    <tr>\n",
       "      <td>ABI</td>\n",
       "    </tr>\n",
       "    <tr>\n",
       "      <td>ABQ</td>\n",
       "    </tr>\n",
       "    <tr>\n",
       "      <td>ABY</td>\n",
       "    </tr>\n",
       "    <tr>\n",
       "      <td>ACK</td>\n",
       "    </tr>\n",
       "    <tr>\n",
       "      <td>...</td>\n",
       "    </tr>\n",
       "    <tr>\n",
       "      <td>VPS</td>\n",
       "    </tr>\n",
       "    <tr>\n",
       "      <td>WRG</td>\n",
       "    </tr>\n",
       "    <tr>\n",
       "      <td>XNA</td>\n",
       "    </tr>\n",
       "    <tr>\n",
       "      <td>YAK</td>\n",
       "    </tr>\n",
       "    <tr>\n",
       "      <td>YUM</td>\n",
       "    </tr>\n",
       "  </tbody>\n",
       "</table>\n",
       "<p>277 rows × 0 columns</p>\n",
       "</div>"
      ],
      "text/plain": [
       "Empty DataFrame\n",
       "Columns: []\n",
       "Index: [ABE, ABI, ABQ, ABY, ACK, ACT, ACV, ACY, ADK, AEX, AGS, AKN, ALB, AMA, ANC, ASE, ATL, ATW, AUS, AVL, AVP, AZO, BDL, BET, BFL, BGM, BGR, BHM, BIL, BIS, BMI, BNA, BOI, BOS, BQN, BRO, BRW, BTM, BTR, BTV, BUF, BUR, BWI, BZN, CAE, CAK, CDC, CDV, CEC, CHA, CHO, CHS, CIC, CID, CLD, CLE, CLL, CLT, CMH, CMI, COD, COS, CPR, CRP, CRW, CSG, CVG, CWA, DAB, DAL, DAY, DBQ, DCA, DEN, DFW, DHN, DLH, DRO, DSM, DTW, EGE, EKO, ELM, ELP, ERI, EUG, EVV, EWN, EWR, EYW, FAI, FAR, FAT, FAY, FCA, FLG, FLL, FLO, FNT, FSD, ...]\n",
       "\n",
       "[277 rows x 0 columns]"
      ]
     },
     "execution_count": 84,
     "metadata": {},
     "output_type": "execute_result"
    }
   ],
   "source": [
    "data2 = data.loc[data['DepDelay'] > 0, ['Origin', 'DepDelay']].groupby(['Origin']).agg('sum').filter(data['Origin'].value_counts() >= 1000)\n",
    "data2"
   ]
  },
  {
   "cell_type": "markdown",
   "metadata": {},
   "source": [
    "## Линейная регрессия\n",
    "\n",
    "В этой части мы разберемся с линейной регрессией, способами её обучения и измерением качества ее прогнозов. \n",
    "\n",
    "Будем рассматривать датасет из предыдущей части задания для предсказания времени задержки отправления рейса в минутах (DepDelay). Отметим, что под задержкой подразумевается не только опоздание рейса относительно планируемого времени вылета, но и отправление до планируемого времени.\n",
    "\n",
    "### Подготовка данных\n",
    "\n",
    "**12. (0.5 балла)** Считайте выборку из файла при помощи функции pd.read_csv и ответьте на следующие вопросы:\n",
    "   - Имеются ли в данных пропущенные значения?\n",
    "   - Сколько всего пропущенных элементов в таблице \"объект-признак\"?\n",
    "   - Сколько объектов имеют хотя бы один пропуск?\n",
    "   - Сколько признаков имеют хотя бы одно пропущенное значение?"
   ]
  },
  {
   "cell_type": "code",
   "execution_count": 12,
   "metadata": {
    "scrolled": true
   },
   "outputs": [
    {
     "name": "stdout",
     "output_type": "stream",
     "text": [
      "Year                     0\n",
      "Month                    0\n",
      "DayofMonth               0\n",
      "DayOfWeek                0\n",
      "DepTime               1399\n",
      "CRSDepTime               0\n",
      "ArrTime               1556\n",
      "CRSArrTime               0\n",
      "UniqueCarrier            0\n",
      "FlightNum                0\n",
      "TailNum                820\n",
      "ActualElapsedTime     1582\n",
      "CRSElapsedTime           9\n",
      "AirTime               1582\n",
      "ArrDelay              1582\n",
      "DepDelay              1399\n",
      "Origin                   0\n",
      "Dest                     0\n",
      "Distance                 0\n",
      "TaxiIn                1556\n",
      "TaxiOut               1406\n",
      "Cancelled                0\n",
      "CancellationCode     68589\n",
      "Diverted                 0\n",
      "CarrierDelay         54747\n",
      "WeatherDelay         54747\n",
      "NASDelay             54747\n",
      "SecurityDelay        54747\n",
      "LateAircraftDelay    54747\n",
      "dtype: int64\n"
     ]
    }
   ],
   "source": [
    "print(data.isnull().sum())"
   ]
  },
  {
   "cell_type": "markdown",
   "metadata": {},
   "source": [
    "Видно, что в данных есть пропуски"
   ]
  },
  {
   "cell_type": "code",
   "execution_count": 14,
   "metadata": {},
   "outputs": [
    {
     "name": "stdout",
     "output_type": "stream",
     "text": [
      "Всего пропущенных элементов: 355215\n"
     ]
    }
   ],
   "source": [
    "print('Всего пропущенных элементов:', data.isnull().sum().sum())"
   ]
  },
  {
   "cell_type": "code",
   "execution_count": 17,
   "metadata": {},
   "outputs": [
    {
     "name": "stdout",
     "output_type": "stream",
     "text": [
      "Количество объектов, имеющих хотя бы 1 пропуск: 70000\n"
     ]
    }
   ],
   "source": [
    "print('Количество объектов, имеющих хотя бы 1 пропуск:', np.count_nonzero(np.array(data.isnull().sum(axis = 1))))"
   ]
  },
  {
   "cell_type": "code",
   "execution_count": 19,
   "metadata": {},
   "outputs": [
    {
     "name": "stdout",
     "output_type": "stream",
     "text": [
      "Количество признаков, имеющих хотя бы 1 пропуск: 16\n"
     ]
    }
   ],
   "source": [
    "print('Количество признаков, имеющих хотя бы 1 пропуск:', np.count_nonzero(np.array(data.isnull().sum())))"
   ]
  },
  {
   "cell_type": "markdown",
   "metadata": {},
   "source": [
    "Как вы понимаете, также не имеет смысла рассматривать при решении поставленной задачи объекты с пропущенным значением целевой переменной. В связи с этим ответьте на следующие вопросы и выполните соответствующие действия:\n",
    "- Имеются ли пропущенные значения в целевой переменной?\n",
    "- Проанализируйте объекты с пропущенными значениями целевой переменной. Чем вызвано это явление? Что их объединяет? Можно ли в связи с этим, на ваш взгляд, исключить какие-то признаки из рассмотрения? Обоснуйте свою точку зрения.\n",
    "\n",
    "Исключите из выборки объекты **с пропущенным значением целевой переменной и со значением целевой переменной, равным 0**, а также при необходимости исключите признаки в соответствии с вашим ответом на последний вопрос из списка и выделите целевую переменную в отдельный вектор, исключив её из матрицы \"объект-признак\"."
   ]
  },
  {
   "cell_type": "code",
   "execution_count": 21,
   "metadata": {},
   "outputs": [
    {
     "name": "stdout",
     "output_type": "stream",
     "text": [
      "1399\n"
     ]
    }
   ],
   "source": [
    "print(data['DepDelay'].isnull().sum())"
   ]
  },
  {
   "cell_type": "markdown",
   "metadata": {
    "collapsed": true
   },
   "source": [
    "В целевой переменной есть пропущенные значения"
   ]
  },
  {
   "cell_type": "code",
   "execution_count": 23,
   "metadata": {},
   "outputs": [
    {
     "name": "stdout",
     "output_type": "stream",
     "text": [
      "       Year  Month  DayofMonth  DayOfWeek  DepTime  CRSDepTime  ArrTime  \\\n",
      "11     2008      3           6          4      NaN        1605      NaN   \n",
      "78     2008      1          19          6      NaN         750      NaN   \n",
      "103    2008      7          24          4      NaN        1230      NaN   \n",
      "112    2008      2           4          1      NaN         620      NaN   \n",
      "128    2008      1          21          1      NaN        1838      NaN   \n",
      "...     ...    ...         ...        ...      ...         ...      ...   \n",
      "69818  2008      6           9          1      NaN        1645      NaN   \n",
      "69836  2008      1          25          5      NaN         938      NaN   \n",
      "69884  2008     12          26          5      NaN        1935      NaN   \n",
      "69918  2008      3           1          6      NaN         600      NaN   \n",
      "69949  2008      1          21          1      NaN        1630      NaN   \n",
      "\n",
      "       CRSArrTime UniqueCarrier  FlightNum  ... TaxiIn  TaxiOut  Cancelled  \\\n",
      "11           1940            AA        484  ...    NaN      NaN          1   \n",
      "78            930            EV       4772  ...    NaN      NaN          1   \n",
      "103          1355            FL        816  ...    NaN      NaN          1   \n",
      "112           758            NW       1281  ...    NaN      NaN          1   \n",
      "128          2005            UA       1251  ...    NaN      NaN          1   \n",
      "...           ...           ...        ...  ...    ...      ...        ...   \n",
      "69818        1800            MQ       3627  ...    NaN      NaN          1   \n",
      "69836        1030            MQ       3254  ...    NaN      NaN          1   \n",
      "69884        2116            NW       1430  ...    NaN      NaN          1   \n",
      "69918         742            EV       4715  ...    NaN      NaN          1   \n",
      "69949        1729            MQ       4198  ...    NaN      NaN          1   \n",
      "\n",
      "       CancellationCode  Diverted  CarrierDelay WeatherDelay NASDelay  \\\n",
      "11                    B         0           NaN          NaN      NaN   \n",
      "78                    B         0           NaN          NaN      NaN   \n",
      "103                   A         0           NaN          NaN      NaN   \n",
      "112                   B         0           NaN          NaN      NaN   \n",
      "128                   A         0           NaN          NaN      NaN   \n",
      "...                 ...       ...           ...          ...      ...   \n",
      "69818                 C         0           NaN          NaN      NaN   \n",
      "69836                 B         0           NaN          NaN      NaN   \n",
      "69884                 B         0           NaN          NaN      NaN   \n",
      "69918                 A         0           NaN          NaN      NaN   \n",
      "69949                 C         0           NaN          NaN      NaN   \n",
      "\n",
      "       SecurityDelay  LateAircraftDelay  \n",
      "11               NaN                NaN  \n",
      "78               NaN                NaN  \n",
      "103              NaN                NaN  \n",
      "112              NaN                NaN  \n",
      "128              NaN                NaN  \n",
      "...              ...                ...  \n",
      "69818            NaN                NaN  \n",
      "69836            NaN                NaN  \n",
      "69884            NaN                NaN  \n",
      "69918            NaN                NaN  \n",
      "69949            NaN                NaN  \n",
      "\n",
      "[1399 rows x 29 columns]\n"
     ]
    }
   ],
   "source": [
    "print(data[data['DepDelay'].isnull() == True])"
   ]
  },
  {
   "cell_type": "code",
   "execution_count": 24,
   "metadata": {},
   "outputs": [
    {
     "name": "stdout",
     "output_type": "stream",
     "text": [
      "       Year  Month  DayofMonth  DayOfWeek  DepTime  CRSDepTime  ArrTime  \\\n",
      "0      2008      6          18          3   2111.0        2055   2308.0   \n",
      "1      2008      6           4          3   1426.0        1410   1730.0   \n",
      "2      2008      8           3          7   1143.0        1145   1501.0   \n",
      "3      2008      1          23          3   1141.0        1144   1323.0   \n",
      "4      2008      5           4          7    815.0         820   1243.0   \n",
      "...     ...    ...         ...        ...      ...         ...      ...   \n",
      "69995  2008      5          12          1   1829.0        1840   2137.0   \n",
      "69996  2008      5          11          7   1149.0        1125   1336.0   \n",
      "69997  2008      9          24          3   1012.0        1012   1132.0   \n",
      "69998  2008      2          18          1   1906.0        1900   2200.0   \n",
      "69999  2008     12           6          6    859.0         900    959.0   \n",
      "\n",
      "       CRSArrTime UniqueCarrier  FlightNum  ... TaxiIn  TaxiOut  Cancelled  \\\n",
      "0            2300            WN        242  ...    3.0      8.0          0   \n",
      "1            1728            XE       2380  ...    4.0     12.0          0   \n",
      "2            1520            WN       1769  ...    4.0      9.0          0   \n",
      "3            1335            OO       3802  ...    4.0     19.0          0   \n",
      "4            1300            WN        399  ...    4.0      8.0          0   \n",
      "...           ...           ...        ...  ...    ...      ...        ...   \n",
      "69995        2149            DL        794  ...   22.0     20.0          0   \n",
      "69996        1314            OO       6159  ...    4.0     13.0          0   \n",
      "69997        1132            YV       7058  ...    7.0     10.0          0   \n",
      "69998        2139            NW        641  ...   20.0     22.0          0   \n",
      "69999        1005            WN        510  ...    2.0     12.0          0   \n",
      "\n",
      "       CancellationCode  Diverted  CarrierDelay WeatherDelay NASDelay  \\\n",
      "0                   NaN         0           NaN          NaN      NaN   \n",
      "1                   NaN         0           NaN          NaN      NaN   \n",
      "2                   NaN         0           NaN          NaN      NaN   \n",
      "3                   NaN         0           NaN          NaN      NaN   \n",
      "4                   NaN         0           NaN          NaN      NaN   \n",
      "...                 ...       ...           ...          ...      ...   \n",
      "69995               NaN         0           NaN          NaN      NaN   \n",
      "69996               NaN         0           0.0          0.0      0.0   \n",
      "69997               NaN         0           NaN          NaN      NaN   \n",
      "69998               NaN         0           0.0          0.0     15.0   \n",
      "69999               NaN         0           NaN          NaN      NaN   \n",
      "\n",
      "       SecurityDelay  LateAircraftDelay  \n",
      "0                NaN                NaN  \n",
      "1                NaN                NaN  \n",
      "2                NaN                NaN  \n",
      "3                NaN                NaN  \n",
      "4                NaN                NaN  \n",
      "...              ...                ...  \n",
      "69995            NaN                NaN  \n",
      "69996            0.0               22.0  \n",
      "69997            NaN                NaN  \n",
      "69998            0.0                6.0  \n",
      "69999            NaN                NaN  \n",
      "\n",
      "[68601 rows x 29 columns]\n"
     ]
    }
   ],
   "source": [
    "print(data[data['DepDelay'].isnull() == False])"
   ]
  },
  {
   "cell_type": "code",
   "execution_count": 33,
   "metadata": {},
   "outputs": [
    {
     "name": "stdout",
     "output_type": "stream",
     "text": [
      "Количество отмененных рейсов, для которых нет данных по \"DepDelay\": 1399\n"
     ]
    }
   ],
   "source": [
    "print('Количество отмененных рейсов, для которых нет данных по \"DepDelay\":',\n",
    "    len(data[(data['Cancelled'] == 1) & (data['DepDelay'].isnull() == True)]))"
   ]
  },
  {
   "cell_type": "code",
   "execution_count": 36,
   "metadata": {},
   "outputs": [
    {
     "name": "stdout",
     "output_type": "stream",
     "text": [
      "Количество отмененных рейсов, для которых есть данные по \"DepDelay\": 12\n"
     ]
    }
   ],
   "source": [
    "print('Количество отмененных рейсов, для которых есть данные по \"DepDelay\":',\n",
    "      len(data[(data['Cancelled'] == 1) & (data['DepDelay'].isnull() == False)]))"
   ]
  },
  {
   "cell_type": "code",
   "execution_count": 37,
   "metadata": {},
   "outputs": [
    {
     "name": "stdout",
     "output_type": "stream",
     "text": [
      "Количество пустых строк для признака \"CancellationCode\": 68589\n"
     ]
    }
   ],
   "source": [
    "print('Количество пустых строк для признака \"CancellationCode\":',\n",
    "      data.loc[:, 'CancellationCode'].isnull().sum())"
   ]
  },
  {
   "cell_type": "code",
   "execution_count": 38,
   "metadata": {},
   "outputs": [
    {
     "name": "stdout",
     "output_type": "stream",
     "text": [
      "Суммарное количество рейсов: 70000\n"
     ]
    }
   ],
   "source": [
    "print('Суммарное количество рейсов:',len(data))"
   ]
  },
  {
   "cell_type": "code",
   "execution_count": 45,
   "metadata": {},
   "outputs": [
    {
     "name": "stdout",
     "output_type": "stream",
     "text": [
      "Количество пустых строк по последним столбцам:\n",
      "CarrierDelay         54747\n",
      "WeatherDelay         54747\n",
      "NASDelay             54747\n",
      "SecurityDelay        54747\n",
      "LateAircraftDelay    54747\n",
      "dtype: int64\n"
     ]
    }
   ],
   "source": [
    "print('Количество пустых строк по последним столбцам:')\n",
    "print(data.loc[:, ['CarrierDelay', 'WeatherDelay', 'NASDelay', 'SecurityDelay', 'LateAircraftDelay']].isnull().sum())"
   ]
  },
  {
   "cell_type": "code",
   "execution_count": 46,
   "metadata": {},
   "outputs": [
    {
     "name": "stdout",
     "output_type": "stream",
     "text": [
      "Количество объектов, для которых значение признака \"Diverted\" равно нулю: 69829\n"
     ]
    }
   ],
   "source": [
    "print('Количество объектов, для которых значение признака \"Diverted\" равно нулю:',\n",
    "     len(data[data['Diverted'] == 0]))"
   ]
  },
  {
   "cell_type": "code",
   "execution_count": 47,
   "metadata": {},
   "outputs": [
    {
     "name": "stdout",
     "output_type": "stream",
     "text": [
      "Количество объектов, для которых значение признака \"Diverted\" равно нулю и ненулевое значение \"DepDelay\": 64651\n"
     ]
    }
   ],
   "source": [
    "print('Количество объектов, для которых значение признака \"Diverted\" равно нулю и ненулевое значение \"DepDelay\":',\n",
    "     len(data[(data['Diverted'] == 0) & (data['DepDelay'] != 0)]))"
   ]
  },
  {
   "cell_type": "markdown",
   "metadata": {},
   "source": [
    "Все рейсы,в которых нет значения целевой переменной, были отменены. \n",
    "В связи с этим,можно не рассматривать  признак 'Cancelled', даже несмотря на то,\n",
    "что в таблице есть 12 рейсов, для которых при непустом значении 'DepDelay' являются \n",
    "непустыми и значения признака 'Cancelled', т. к. их количество относительно \n",
    "общего числа строк очень мало. Также можно не рассматривать признаки 'CancellationCode',\n",
    "'CarrierDelay', 'WeatherDelay', 'NASDelay', 'SecurityDelay', 'LateAircraftDelay', \n",
    "т. к. первый из них почти на 98% пустой, а оставшиеся имеют около 78% пустых значений. \n",
    "Также удалим признак 'Diverted', т. к. он, по моему мнению, не поможет в предсказании."
   ]
  },
  {
   "cell_type": "code",
   "execution_count": 48,
   "metadata": {},
   "outputs": [],
   "source": [
    "df = pd.read_csv('2008.csv')"
   ]
  },
  {
   "cell_type": "code",
   "execution_count": 49,
   "metadata": {},
   "outputs": [],
   "source": [
    "df = df[(df['DepDelay'].isnull() == False)]\n",
    "df = df[(df['DepDelay'] != 0)]\n",
    "df.drop(['Cancelled', 'CancellationCode', 'CarrierDelay', 'WeatherDelay', 'NASDelay', 'SecurityDelay', 'LateAircraftDelay', \\\n",
    "         'Diverted'], axis = 1, inplace = True)"
   ]
  },
  {
   "cell_type": "code",
   "execution_count": 50,
   "metadata": {},
   "outputs": [],
   "source": [
    "df.index = np.arange(len(df))\n",
    "y = np.array(df['DepDelay'])\n",
    "X = df.drop('DepDelay', axis = 1)"
   ]
  },
  {
   "cell_type": "markdown",
   "metadata": {},
   "source": [
    "**13. (0.5 балла)** Обратите внимание, что признаки DepTime, CRSDepTime, ArrTime, CRSArrTime приведены в формате hhmm, в связи с чем будет не вполне корректно рассматривать их как вещественные.\n",
    "\n",
    "Преобразуйте каждый признак FeatureName из указанных в пару новых признаков FeatureName\\_Hour, FeatureName\\_Minute, разделив каждое из значений на часы и минуты. Не забудьте при этом исключить исходный признак из выборки. В случае, если значение признака отсутствует, значения двух новых признаков, его заменяющих, также должны отсутствовать. \n",
    "\n",
    "Например, признак DepTime необходимо заменить на пару признаков DepTime_Hour, DepTime_Minute. При этом, например, значение 155 исходного признака будет преобразовано в значения 1 и 55 признаков DepTime_Hour, DepTime_Minute соответственно."
   ]
  },
  {
   "cell_type": "code",
   "execution_count": 52,
   "metadata": {
    "scrolled": true
   },
   "outputs": [
    {
     "name": "stdout",
     "output_type": "stream",
     "text": [
      "DepTime         0\n",
      "CRSDepTime      0\n",
      "ArrTime       140\n",
      "CRSArrTime      0\n",
      "dtype: int64\n"
     ]
    }
   ],
   "source": [
    "print(X.loc[:, ['DepTime', 'CRSDepTime', 'ArrTime', 'CRSArrTime']].isnull().sum())"
   ]
  },
  {
   "cell_type": "code",
   "execution_count": 53,
   "metadata": {},
   "outputs": [],
   "source": [
    "def get_hour(n):\n",
    "    nums = list(map(str, str(int(n))))\n",
    "    hours = ''.join(nums[:-2])\n",
    "    return hours\n",
    "\n",
    "def get_min(n):\n",
    "    nums = list(map(str, str(int(n))))\n",
    "    minutes = ''.join(nums[-2:])\n",
    "    return minutes"
   ]
  },
  {
   "cell_type": "code",
   "execution_count": 54,
   "metadata": {},
   "outputs": [],
   "source": [
    "X_at = X[X['ArrTime'].isnull() == False]"
   ]
  },
  {
   "cell_type": "code",
   "execution_count": 55,
   "metadata": {},
   "outputs": [],
   "source": [
    "X['DepTime_Hour'] = pd.to_numeric(X['DepTime'].apply(get_hour))\n",
    "X['DepTime_Minute'] = pd.to_numeric(X['DepTime'].apply(get_min))\n",
    "X['CRSDepTime_Hour'] = pd.to_numeric(X['CRSDepTime'].apply(get_hour))\n",
    "X['CRSDepTime_Minute'] = pd.to_numeric(X['CRSDepTime'].apply(get_min))\n",
    "X['ArrTime_Hour'] = pd.to_numeric(X_at['ArrTime'].apply(get_hour))\n",
    "X['ArrTime_Minute'] = pd.to_numeric(X_at['ArrTime'].apply(get_min))\n",
    "X['CRSArrTime_Hour'] = pd.to_numeric(X['CRSArrTime'].apply(get_hour))\n",
    "X['CRSArrTime_Minute'] = pd.to_numeric(X['CRSArrTime'].apply(get_min))"
   ]
  },
  {
   "cell_type": "code",
   "execution_count": 56,
   "metadata": {},
   "outputs": [],
   "source": [
    "X.drop(['DepTime', 'CRSDepTime', 'ArrTime', 'CRSArrTime'], axis = 1, inplace = True)"
   ]
  },
  {
   "cell_type": "markdown",
   "metadata": {},
   "source": [
    "**14. (0.5 балла)** Некоторые из признаков, отличных от целевой переменной, могут оказывать чересчур значимое влияние на прогноз, поскольку по своему смыслу содержат большую долю информации о значении целевой переменной. Изучите описание датасета и исключите признаки, сильно коррелирующие с ответами. Ваш выбор признаков для исключения из выборки обоснуйте. Кроме того, исключите признаки TailNum и Year."
   ]
  },
  {
   "cell_type": "code",
   "execution_count": 58,
   "metadata": {},
   "outputs": [],
   "source": [
    "X.drop(['TailNum', 'Year'], axis = 1, inplace = True)\n",
    "numeric_data = X.select_dtypes([np.number])\n",
    "numeric_data_mean = numeric_data.mean()\n",
    "numeric_features = numeric_data.columns"
   ]
  },
  {
   "cell_type": "code",
   "execution_count": 59,
   "metadata": {},
   "outputs": [],
   "source": [
    "import seaborn as sns"
   ]
  },
  {
   "cell_type": "code",
   "execution_count": 63,
   "metadata": {},
   "outputs": [
    {
     "data": {
      "image/png": "[encoded data removed]",
      "text/plain": [
       "<Figure size 1080x720 with 1 Axes>"
      ]
     },
     "metadata": {},
     "output_type": "display_data"
    }
   ],
   "source": [
    "X_f = X.fillna(numeric_data_mean)\n",
    "\n",
    "correlations = {\n",
    "    feature: np.corrcoef(X_f[feature], y)[0][1]\n",
    "    for feature in numeric_features\n",
    "}\n",
    "sorted_correlations = sorted(correlations.items(), key=lambda x: x[1], reverse=True)\n",
    "features_order = [x[0] for x in sorted_correlations]\n",
    "correlations = [x[1] for x in sorted_correlations]\n",
    "\n",
    "\n",
    "plot = sns.barplot(y = features_order, x = correlations, palette = 'cool')\n",
    "plot.figure.set_size_inches(15, 10)"
   ]
  },
  {
   "cell_type": "markdown",
   "metadata": {},
   "source": [
    "Единственным сильно коррелирующим признаком является 'ArrDelay', поэтому исключим его из выборки."
   ]
  },
  {
   "cell_type": "code",
   "execution_count": 64,
   "metadata": {},
   "outputs": [],
   "source": [
    "X.drop('ArrDelay', axis = 1, inplace = True)"
   ]
  },
  {
   "cell_type": "markdown",
   "metadata": {},
   "source": [
    "**15. (1 балл)** Приведем данные к виду, пригодному для обучения линейных моделей. Для этого вещественные признаки надо отмасштабировать, а категориальные — привести к числовому виду. Также надо устранить пропуски в данных."
   ]
  },
  {
   "cell_type": "markdown",
   "metadata": {},
   "source": [
    "В первую очередь поймем, зачем необходимо применять масштабирование. Следующие ячейки с кодом построят гистограммы для 3 вещественных признаков выборки."
   ]
  },
  {
   "cell_type": "code",
   "execution_count": 65,
   "metadata": {
    "scrolled": true
   },
   "outputs": [
    {
     "data": {
      "text/plain": [
       "<AxesSubplot:>"
      ]
     },
     "execution_count": 65,
     "metadata": {},
     "output_type": "execute_result"
    },
    {
     "data": {
      "image/png": "[encoded data removed]",
      "text/plain": [
       "<Figure size 432x288 with 1 Axes>"
      ]
     },
     "metadata": {},
     "output_type": "display_data"
    }
   ],
   "source": [
    "X['DepTime_Hour'].hist(bins=20)"
   ]
  },
  {
   "cell_type": "code",
   "execution_count": 66,
   "metadata": {},
   "outputs": [
    {
     "data": {
      "text/plain": [
       "<AxesSubplot:>"
      ]
     },
     "execution_count": 66,
     "metadata": {},
     "output_type": "execute_result"
    },
    {
     "data": {
      "image/png": "[encoded data removed]",
      "text/plain": [
       "<Figure size 432x288 with 1 Axes>"
      ]
     },
     "metadata": {},
     "output_type": "display_data"
    }
   ],
   "source": [
    "X['TaxiIn'].hist(bins=20)"
   ]
  },
  {
   "cell_type": "code",
   "execution_count": 67,
   "metadata": {},
   "outputs": [
    {
     "data": {
      "text/plain": [
       "<AxesSubplot:>"
      ]
     },
     "execution_count": 67,
     "metadata": {},
     "output_type": "execute_result"
    },
    {
     "data": {
      "image/png": "[encoded data removed]",
      "text/plain": [
       "<Figure size 432x288 with 1 Axes>"
      ]
     },
     "metadata": {},
     "output_type": "display_data"
    }
   ],
   "source": [
    "X['FlightNum'].hist(bins=20)"
   ]
  },
  {
   "cell_type": "markdown",
   "metadata": {},
   "source": [
    "Какую проблему вы наблюдаете на этих графиках? Как масштабирование поможет её исправить?"
   ]
  },
  {
   "cell_type": "markdown",
   "metadata": {},
   "source": [
    "На графиках видно, что разные признаки принимают значения из значительно отличающихся диапозонов, значения их отличаются на порядки. Масштабирование поможет уравнять признаки, их возможную значимость для модели."
   ]
  },
  {
   "cell_type": "markdown",
   "metadata": {},
   "source": [
    "Некоторые из признаков в нашем датасете являются категориальными. Типичным подходом к работе с ними является бинарное, или [one-hot-кодирование](https://en.wikipedia.org/wiki/One-hot).\n",
    "\n",
    "Реализуйте функцию transform_data, которая принимает на вход DataFrame с признаками и выполняет следующие шаги:\n",
    "1. Замена пропущенных значений на нули для вещественных признаков и на строки 'nan' для категориальных.\n",
    "2. Масштабирование вещественных признаков с помощью [StandardScaler](http://scikit-learn.org/stable/modules/generated/sklearn.preprocessing.StandardScaler.html).\n",
    "3. One-hot-кодирование категориальных признаков с помощью [DictVectorizer](http://scikit-learn.org/stable/modules/generated/sklearn.feature_extraction.DictVectorizer.html) или функции [pd.get_dummies](http://pandas.pydata.org/pandas-docs/stable/generated/pandas.get_dummies.html).\n",
    "\n",
    "Метод должен возвращать преобразованный DataFrame, который должна состоять из масштабированных вещественных признаков и закодированных категориальных (исходные признаки должны быть исключены из выборки)."
   ]
  },
  {
   "cell_type": "code",
   "execution_count": 68,
   "metadata": {},
   "outputs": [],
   "source": [
    "from sklearn.preprocessing import StandardScaler"
   ]
  },
  {
   "cell_type": "code",
   "execution_count": 69,
   "metadata": {},
   "outputs": [],
   "source": [
    "def transform_data(data):\n",
    "    numeric_features = data.select_dtypes([np.number]).columns\n",
    "    object_features = data.select_dtypes([object]).columns\n",
    "    data[numeric_features] = data[numeric_features].fillna(0)\n",
    "    data[object_features] = data[object_features].fillna('nan')\n",
    "    \n",
    "    scaler = StandardScaler()\n",
    "    data[numeric_features] = scaler.fit_transform(data[numeric_features])\n",
    "    \n",
    "    object_data_transform = pd.get_dummies(data[object_features])\n",
    "    data = pd.concat([data, object_data_transform], axis = 1)\n",
    "    \n",
    "    data.drop(object_features, axis = 1, inplace = True)\n",
    "    \n",
    "    return data"
   ]
  },
  {
   "cell_type": "markdown",
   "metadata": {},
   "source": [
    "Примените функцию transform_data к данным. Сколько признаков получилось после преобразования?"
   ]
  },
  {
   "cell_type": "code",
   "execution_count": 71,
   "metadata": {},
   "outputs": [
    {
     "data": {
      "text/html": [
       "<div>\n",
       "<style scoped>\n",
       "    .dataframe tbody tr th:only-of-type {\n",
       "        vertical-align: middle;\n",
       "    }\n",
       "\n",
       "    .dataframe tbody tr th {\n",
       "        vertical-align: top;\n",
       "    }\n",
       "\n",
       "    .dataframe thead th {\n",
       "        text-align: right;\n",
       "    }\n",
       "</style>\n",
       "<table border=\"1\" class=\"dataframe\">\n",
       "  <thead>\n",
       "    <tr style=\"text-align: right;\">\n",
       "      <th></th>\n",
       "      <th>Month</th>\n",
       "      <th>DayofMonth</th>\n",
       "      <th>DayOfWeek</th>\n",
       "      <th>FlightNum</th>\n",
       "      <th>ActualElapsedTime</th>\n",
       "      <th>CRSElapsedTime</th>\n",
       "      <th>AirTime</th>\n",
       "      <th>Distance</th>\n",
       "      <th>TaxiIn</th>\n",
       "      <th>TaxiOut</th>\n",
       "      <th>...</th>\n",
       "      <th>Dest_TYR</th>\n",
       "      <th>Dest_TYS</th>\n",
       "      <th>Dest_VLD</th>\n",
       "      <th>Dest_VPS</th>\n",
       "      <th>Dest_WRG</th>\n",
       "      <th>Dest_WYS</th>\n",
       "      <th>Dest_XNA</th>\n",
       "      <th>Dest_YAK</th>\n",
       "      <th>Dest_YKM</th>\n",
       "      <th>Dest_YUM</th>\n",
       "    </tr>\n",
       "  </thead>\n",
       "  <tbody>\n",
       "    <tr>\n",
       "      <th>0</th>\n",
       "      <td>-0.118281</td>\n",
       "      <td>0.256485</td>\n",
       "      <td>-0.462767</td>\n",
       "      <td>-0.991600</td>\n",
       "      <td>-0.988979</td>\n",
       "      <td>-0.916826</td>\n",
       "      <td>-0.849307</td>\n",
       "      <td>-0.744130</td>\n",
       "      <td>-0.786908</td>\n",
       "      <td>-0.741204</td>\n",
       "      <td>...</td>\n",
       "      <td>0</td>\n",
       "      <td>0</td>\n",
       "      <td>0</td>\n",
       "      <td>0</td>\n",
       "      <td>0</td>\n",
       "      <td>0</td>\n",
       "      <td>0</td>\n",
       "      <td>0</td>\n",
       "      <td>0</td>\n",
       "      <td>0</td>\n",
       "    </tr>\n",
       "    <tr>\n",
       "      <th>1</th>\n",
       "      <td>-0.118281</td>\n",
       "      <td>-1.332050</td>\n",
       "      <td>-0.462767</td>\n",
       "      <td>0.106546</td>\n",
       "      <td>-0.040552</td>\n",
       "      <td>0.127377</td>\n",
       "      <td>0.064301</td>\n",
       "      <td>0.183961</td>\n",
       "      <td>-0.582387</td>\n",
       "      <td>-0.389769</td>\n",
       "      <td>...</td>\n",
       "      <td>0</td>\n",
       "      <td>0</td>\n",
       "      <td>0</td>\n",
       "      <td>0</td>\n",
       "      <td>0</td>\n",
       "      <td>0</td>\n",
       "      <td>0</td>\n",
       "      <td>0</td>\n",
       "      <td>0</td>\n",
       "      <td>0</td>\n",
       "    </tr>\n",
       "    <tr>\n",
       "      <th>2</th>\n",
       "      <td>0.467662</td>\n",
       "      <td>-1.445517</td>\n",
       "      <td>1.541454</td>\n",
       "      <td>-0.207284</td>\n",
       "      <td>0.157627</td>\n",
       "      <td>0.370547</td>\n",
       "      <td>0.314806</td>\n",
       "      <td>0.471018</td>\n",
       "      <td>-0.582387</td>\n",
       "      <td>-0.653345</td>\n",
       "      <td>...</td>\n",
       "      <td>0</td>\n",
       "      <td>0</td>\n",
       "      <td>0</td>\n",
       "      <td>0</td>\n",
       "      <td>0</td>\n",
       "      <td>0</td>\n",
       "      <td>0</td>\n",
       "      <td>0</td>\n",
       "      <td>0</td>\n",
       "      <td>0</td>\n",
       "    </tr>\n",
       "    <tr>\n",
       "      <th>3</th>\n",
       "      <td>-1.583137</td>\n",
       "      <td>0.823819</td>\n",
       "      <td>-0.462767</td>\n",
       "      <td>0.836931</td>\n",
       "      <td>-0.351976</td>\n",
       "      <td>-0.258835</td>\n",
       "      <td>-0.363032</td>\n",
       "      <td>-0.347886</td>\n",
       "      <td>-0.582387</td>\n",
       "      <td>0.225242</td>\n",
       "      <td>...</td>\n",
       "      <td>0</td>\n",
       "      <td>0</td>\n",
       "      <td>0</td>\n",
       "      <td>0</td>\n",
       "      <td>0</td>\n",
       "      <td>0</td>\n",
       "      <td>0</td>\n",
       "      <td>0</td>\n",
       "      <td>0</td>\n",
       "      <td>0</td>\n",
       "    </tr>\n",
       "    <tr>\n",
       "      <th>4</th>\n",
       "      <td>-0.411252</td>\n",
       "      <td>-1.332050</td>\n",
       "      <td>1.541454</td>\n",
       "      <td>-0.910960</td>\n",
       "      <td>0.299183</td>\n",
       "      <td>0.442068</td>\n",
       "      <td>0.476898</td>\n",
       "      <td>0.634799</td>\n",
       "      <td>-0.582387</td>\n",
       "      <td>-0.741204</td>\n",
       "      <td>...</td>\n",
       "      <td>0</td>\n",
       "      <td>0</td>\n",
       "      <td>0</td>\n",
       "      <td>0</td>\n",
       "      <td>0</td>\n",
       "      <td>0</td>\n",
       "      <td>0</td>\n",
       "      <td>0</td>\n",
       "      <td>0</td>\n",
       "      <td>0</td>\n",
       "    </tr>\n",
       "    <tr>\n",
       "      <th>...</th>\n",
       "      <td>...</td>\n",
       "      <td>...</td>\n",
       "      <td>...</td>\n",
       "      <td>...</td>\n",
       "      <td>...</td>\n",
       "      <td>...</td>\n",
       "      <td>...</td>\n",
       "      <td>...</td>\n",
       "      <td>...</td>\n",
       "      <td>...</td>\n",
       "      <td>...</td>\n",
       "      <td>...</td>\n",
       "      <td>...</td>\n",
       "      <td>...</td>\n",
       "      <td>...</td>\n",
       "      <td>...</td>\n",
       "      <td>...</td>\n",
       "      <td>...</td>\n",
       "      <td>...</td>\n",
       "      <td>...</td>\n",
       "      <td>...</td>\n",
       "    </tr>\n",
       "    <tr>\n",
       "      <th>63399</th>\n",
       "      <td>-1.583137</td>\n",
       "      <td>1.164220</td>\n",
       "      <td>1.040399</td>\n",
       "      <td>1.564234</td>\n",
       "      <td>-0.238731</td>\n",
       "      <td>-0.230227</td>\n",
       "      <td>-0.274618</td>\n",
       "      <td>-0.120706</td>\n",
       "      <td>1.053782</td>\n",
       "      <td>-0.301910</td>\n",
       "      <td>...</td>\n",
       "      <td>0</td>\n",
       "      <td>0</td>\n",
       "      <td>0</td>\n",
       "      <td>0</td>\n",
       "      <td>0</td>\n",
       "      <td>0</td>\n",
       "      <td>0</td>\n",
       "      <td>0</td>\n",
       "      <td>0</td>\n",
       "      <td>0</td>\n",
       "    </tr>\n",
       "    <tr>\n",
       "      <th>63400</th>\n",
       "      <td>-0.411252</td>\n",
       "      <td>-0.424316</td>\n",
       "      <td>-1.464878</td>\n",
       "      <td>-0.708075</td>\n",
       "      <td>0.016071</td>\n",
       "      <td>-0.001361</td>\n",
       "      <td>-0.259882</td>\n",
       "      <td>-0.217566</td>\n",
       "      <td>3.098994</td>\n",
       "      <td>0.313101</td>\n",
       "      <td>...</td>\n",
       "      <td>0</td>\n",
       "      <td>0</td>\n",
       "      <td>0</td>\n",
       "      <td>0</td>\n",
       "      <td>0</td>\n",
       "      <td>0</td>\n",
       "      <td>0</td>\n",
       "      <td>0</td>\n",
       "      <td>0</td>\n",
       "      <td>0</td>\n",
       "    </tr>\n",
       "    <tr>\n",
       "      <th>63401</th>\n",
       "      <td>-0.411252</td>\n",
       "      <td>-0.537783</td>\n",
       "      <td>1.541454</td>\n",
       "      <td>2.047563</td>\n",
       "      <td>-1.130535</td>\n",
       "      <td>-1.145693</td>\n",
       "      <td>-1.085076</td>\n",
       "      <td>-1.043514</td>\n",
       "      <td>-0.582387</td>\n",
       "      <td>-0.301910</td>\n",
       "      <td>...</td>\n",
       "      <td>0</td>\n",
       "      <td>0</td>\n",
       "      <td>0</td>\n",
       "      <td>0</td>\n",
       "      <td>0</td>\n",
       "      <td>0</td>\n",
       "      <td>0</td>\n",
       "      <td>0</td>\n",
       "      <td>0</td>\n",
       "      <td>0</td>\n",
       "    </tr>\n",
       "    <tr>\n",
       "      <th>63402</th>\n",
       "      <td>-1.290166</td>\n",
       "      <td>0.256485</td>\n",
       "      <td>-1.464878</td>\n",
       "      <td>-0.786661</td>\n",
       "      <td>1.516567</td>\n",
       "      <td>1.286013</td>\n",
       "      <td>1.302092</td>\n",
       "      <td>1.208912</td>\n",
       "      <td>2.689951</td>\n",
       "      <td>0.488818</td>\n",
       "      <td>...</td>\n",
       "      <td>0</td>\n",
       "      <td>0</td>\n",
       "      <td>0</td>\n",
       "      <td>0</td>\n",
       "      <td>0</td>\n",
       "      <td>0</td>\n",
       "      <td>0</td>\n",
       "      <td>0</td>\n",
       "      <td>0</td>\n",
       "      <td>0</td>\n",
       "    </tr>\n",
       "    <tr>\n",
       "      <th>63403</th>\n",
       "      <td>1.639547</td>\n",
       "      <td>-1.105117</td>\n",
       "      <td>1.040399</td>\n",
       "      <td>-0.853947</td>\n",
       "      <td>-0.946512</td>\n",
       "      <td>-0.916826</td>\n",
       "      <td>-0.849307</td>\n",
       "      <td>-0.892061</td>\n",
       "      <td>-0.991430</td>\n",
       "      <td>-0.389769</td>\n",
       "      <td>...</td>\n",
       "      <td>0</td>\n",
       "      <td>0</td>\n",
       "      <td>0</td>\n",
       "      <td>0</td>\n",
       "      <td>0</td>\n",
       "      <td>0</td>\n",
       "      <td>0</td>\n",
       "      <td>0</td>\n",
       "      <td>0</td>\n",
       "      <td>0</td>\n",
       "    </tr>\n",
       "  </tbody>\n",
       "</table>\n",
       "<p>63404 rows × 632 columns</p>\n",
       "</div>"
      ],
      "text/plain": [
       "          Month  DayofMonth  DayOfWeek  FlightNum  ActualElapsedTime  \\\n",
       "0     -0.118281    0.256485  -0.462767  -0.991600          -0.988979   \n",
       "1     -0.118281   -1.332050  -0.462767   0.106546          -0.040552   \n",
       "2      0.467662   -1.445517   1.541454  -0.207284           0.157627   \n",
       "3     -1.583137    0.823819  -0.462767   0.836931          -0.351976   \n",
       "4     -0.411252   -1.332050   1.541454  -0.910960           0.299183   \n",
       "...         ...         ...        ...        ...                ...   \n",
       "63399 -1.583137    1.164220   1.040399   1.564234          -0.238731   \n",
       "63400 -0.411252   -0.424316  -1.464878  -0.708075           0.016071   \n",
       "63401 -0.411252   -0.537783   1.541454   2.047563          -1.130535   \n",
       "63402 -1.290166    0.256485  -1.464878  -0.786661           1.516567   \n",
       "63403  1.639547   -1.105117   1.040399  -0.853947          -0.946512   \n",
       "\n",
       "       CRSElapsedTime   AirTime  Distance    TaxiIn   TaxiOut  ...  Dest_TYR  \\\n",
       "0           -0.916826 -0.849307 -0.744130 -0.786908 -0.741204  ...         0   \n",
       "1            0.127377  0.064301  0.183961 -0.582387 -0.389769  ...         0   \n",
       "2            0.370547  0.314806  0.471018 -0.582387 -0.653345  ...         0   \n",
       "3           -0.258835 -0.363032 -0.347886 -0.582387  0.225242  ...         0   \n",
       "4            0.442068  0.476898  0.634799 -0.582387 -0.741204  ...         0   \n",
       "...               ...       ...       ...       ...       ...  ...       ...   \n",
       "63399       -0.230227 -0.274618 -0.120706  1.053782 -0.301910  ...         0   \n",
       "63400       -0.001361 -0.259882 -0.217566  3.098994  0.313101  ...         0   \n",
       "63401       -1.145693 -1.085076 -1.043514 -0.582387 -0.301910  ...         0   \n",
       "63402        1.286013  1.302092  1.208912  2.689951  0.488818  ...         0   \n",
       "63403       -0.916826 -0.849307 -0.892061 -0.991430 -0.389769  ...         0   \n",
       "\n",
       "       Dest_TYS  Dest_VLD  Dest_VPS  Dest_WRG  Dest_WYS  Dest_XNA  Dest_YAK  \\\n",
       "0             0         0         0         0         0         0         0   \n",
       "1             0         0         0         0         0         0         0   \n",
       "2             0         0         0         0         0         0         0   \n",
       "3             0         0         0         0         0         0         0   \n",
       "4             0         0         0         0         0         0         0   \n",
       "...         ...       ...       ...       ...       ...       ...       ...   \n",
       "63399         0         0         0         0         0         0         0   \n",
       "63400         0         0         0         0         0         0         0   \n",
       "63401         0         0         0         0         0         0         0   \n",
       "63402         0         0         0         0         0         0         0   \n",
       "63403         0         0         0         0         0         0         0   \n",
       "\n",
       "       Dest_YKM  Dest_YUM  \n",
       "0             0         0  \n",
       "1             0         0  \n",
       "2             0         0  \n",
       "3             0         0  \n",
       "4             0         0  \n",
       "...         ...       ...  \n",
       "63399         0         0  \n",
       "63400         0         0  \n",
       "63401         0         0  \n",
       "63402         0         0  \n",
       "63403         0         0  \n",
       "\n",
       "[63404 rows x 632 columns]"
      ]
     },
     "execution_count": 71,
     "metadata": {},
     "output_type": "execute_result"
    }
   ],
   "source": [
    "X_new = transform_data(X)\n",
    "X_new"
   ]
  },
  {
   "cell_type": "markdown",
   "metadata": {},
   "source": [
    "После преобразования получилось 632 признака"
   ]
  },
  {
   "cell_type": "markdown",
   "metadata": {},
   "source": [
    "**16. (0.5 балла)** Разбейте выборку и вектор целевой переменной на обучение и контроль в отношении 70/30 (для этого можно использовать, например, функцию [train_test_split](http://scikit-learn.org/stable/modules/generated/sklearn.cross_validation.train_test_split.html)). "
   ]
  },
  {
   "cell_type": "code",
   "execution_count": 72,
   "metadata": {},
   "outputs": [],
   "source": [
    "from sklearn.model_selection import train_test_split"
   ]
  },
  {
   "cell_type": "code",
   "execution_count": 73,
   "metadata": {},
   "outputs": [],
   "source": [
    "X_new = np.array(X_new)\n",
    "x_train, x_test, y_train, y_test = train_test_split(X_new, y, test_size = 0.3, random_state = 15)"
   ]
  },
  {
   "cell_type": "markdown",
   "metadata": {},
   "source": [
    "### Scikit-learn\n",
    "\n",
    "<img src = \"https://pp.vk.me/c4534/u35727827/93547647/x_d31c4463.jpg\">\n",
    "Теперь, когда мы привели данные к пригодному виду, попробуем решить задачу при помощи метода наименьших квадратов. Напомним, что данный метод заключается в оптимизации функционала $MSE$:\n",
    "\n",
    "$$MSE(X, y) = \\frac{1}{l} \\sum_{i=1}^l (<w, x_i> - y_i)^2 \\to \\min_{w},$$\n",
    "\n",
    "где $\\{ (x_i, y_i ) \\}_{i=1}^l$ — обучающая выборка, состоящая из $l$ пар объект-ответ.\n",
    "\n",
    "Заметим, что решение данной задачи уже реализовано в модуле sklearn в виде класса [LinearRegression](http://scikit-learn.org/stable/modules/generated/sklearn.linear_model.LinearRegression.html#sklearn.linear_model.LinearRegression).\n",
    "\n",
    "**17. (0.5 балла)** Обучите линейную регрессию на 1000 объектах из обучающей выборки и выведите значения $MSE$ и $R^2$ на этой подвыборке и контрольной выборке (итого 4 различных числа). Проинтерпретируйте полученный результат — насколько качественные прогнозы строит полученная модель? Какие проблемы наблюдаются в модели?\n",
    "\n",
    "**Подсказка**: изучите значения полученных коэффициентов $w$, сохраненных в атрибуте coef_ объекта LinearRegression."
   ]
  },
  {
   "cell_type": "code",
   "execution_count": 74,
   "metadata": {},
   "outputs": [],
   "source": [
    "from sklearn.linear_model import LinearRegression\n",
    "from sklearn.metrics import mean_squared_error\n",
    "from sklearn.metrics import r2_score"
   ]
  },
  {
   "cell_type": "code",
   "execution_count": 75,
   "metadata": {},
   "outputs": [
    {
     "name": "stdout",
     "output_type": "stream",
     "text": [
      "MSE подвыборки: 618.5508565979004 \n",
      "MSE контрольной выборки: 1.5384979617162188e+24 \n",
      "R^2 подвыборки: 0.4954161657982733 \n",
      "R^2 контрольной выборки: -1.1970927572869322e+21\n"
     ]
    }
   ],
   "source": [
    "x_train_part = x_train[:1000]\n",
    "y_train_part = y_train[:1000]\n",
    "\n",
    "regr = LinearRegression().fit(x_train_part, y_train_part)\n",
    "\n",
    "y_train_part_pred = regr.predict(x_train_part)\n",
    "y_pred = regr.predict(x_test)\n",
    "\n",
    "y_train_part_mse = mean_squared_error(y_train_part, y_train_part_pred)\n",
    "y_mse = mean_squared_error(y_test, y_pred)\n",
    "\n",
    "y_train_part_r2 = r2_score(y_train_part, y_train_part_pred)\n",
    "y_r2 = r2_score(y_test, y_pred)\n",
    "\n",
    "print('MSE подвыборки:', y_train_part_mse, '\\n' 'MSE контрольной выборки:', y_mse, '\\n' 'R^2 подвыборки:', y_train_part_r2, \n",
    "     '\\n' 'R^2 контрольной выборки:', y_r2)"
   ]
  },
  {
   "cell_type": "code",
   "execution_count": 76,
   "metadata": {},
   "outputs": [
    {
     "data": {
      "text/plain": [
       "array([-4.39969258e-01,  1.69924953e+00, -3.86686750e-01,  2.93700423e+00,\n",
       "        4.84873696e+01, -7.58109042e+00, -5.31820299e+01,  1.34629764e+01,\n",
       "       -1.82952544e+00, -4.10101136e+00,  2.82338461e+01,  1.63705995e+00,\n",
       "       -2.28832440e+01, -2.13089385e+00, -2.05120583e+01,  1.35320999e+00,\n",
       "        1.99102484e+01,  1.43517127e+00,  1.65728070e+13,  1.65728070e+13,\n",
       "        1.65728070e+13,  1.65728070e+13,  1.65728070e+13,  1.65728070e+13,\n",
       "        1.65728070e+13,  1.65728070e+13,  1.65728070e+13,  1.65728070e+13,\n",
       "        1.65728070e+13,  1.65728070e+13,  1.65728070e+13,  1.65728070e+13,\n",
       "        1.65728070e+13,  1.65728070e+13,  1.65728070e+13,  1.65728070e+13,\n",
       "        1.65728070e+13,  1.65728070e+13,  4.66770846e+12,  4.66770846e+12,\n",
       "        4.66770846e+12,  5.16897221e+12,  3.23263242e+12,  1.61153398e+11,\n",
       "       -6.96632231e+10, -1.30118637e+12,  7.48676667e+12,  4.42803494e+12,\n",
       "        4.66770846e+12, -1.87795958e+12, -3.61810946e+11,  4.66770846e+12,\n",
       "       -2.12566727e+12, -3.75518878e+11,  4.66770846e+12,  4.66770846e+12,\n",
       "        4.66770846e+12,  5.07780742e+12,  4.66770846e+12, -7.15281012e+11,\n",
       "        2.89645912e+12, -2.55847541e+12,  4.66770846e+12, -4.97907036e+11,\n",
       "       -3.52745981e+12,  1.71574888e+12, -4.16309070e+12,  4.66770846e+12,\n",
       "        4.66770846e+12, -2.54428822e+12, -2.39653247e+12,  4.66770846e+12,\n",
       "        4.66770846e+12,  4.66770846e+12,  4.66770846e+12, -1.24271734e+12,\n",
       "        4.66770846e+12,  3.66636361e+12,  2.55983058e+11,  2.69861387e+11,\n",
       "        4.66770846e+12,  1.59491612e+12,  4.66770846e+12,  4.66770846e+12,\n",
       "        4.66770846e+12,  4.66770846e+12,  2.47133652e+12,  1.14285612e+12,\n",
       "        1.43915742e+12,  1.17583320e+12, -5.68519538e+10,  4.66770846e+12,\n",
       "        3.35192924e+12,  4.66770846e+12,  2.52550789e+12, -2.24100507e+12,\n",
       "        3.18150909e+12,  4.66770846e+12, -2.63604377e+11,  4.66770846e+12,\n",
       "        4.66770846e+12,  2.20032393e+12,  6.80157598e+11, -1.14048400e+12,\n",
       "        4.66770846e+12,  4.66770846e+12,  4.66770846e+12,  4.66770846e+12,\n",
       "        1.82905103e+12,  4.66770846e+12, -1.87228121e+12, -4.27735165e+11,\n",
       "        4.66770846e+12,  4.66770846e+12, -8.62829096e+11,  4.66770846e+12,\n",
       "        4.66770846e+12,  4.66770846e+12,  9.93472241e+11, -1.16426589e+12,\n",
       "        4.66770846e+12,  4.66770846e+12,  4.66770846e+12,  4.66770846e+12,\n",
       "       -2.54814226e+11, -9.06261939e+11,  4.66770846e+12,  3.41053541e+11,\n",
       "        4.66770846e+12,  4.66770846e+12,  2.34455598e+11,  4.66770846e+12,\n",
       "       -2.07005269e+11,  4.66770846e+12,  4.66770846e+12,  4.66770846e+12,\n",
       "        1.01207319e+12,  9.84201080e+10,  4.66770846e+12,  4.66770846e+12,\n",
       "       -6.28176474e+11,  4.66770846e+12,  4.66770846e+12, -1.04852802e+12,\n",
       "        4.66770846e+12, -9.90091177e+11,  4.66770846e+12,  8.32965285e+11,\n",
       "        2.54060391e+12, -2.02746312e+12,  4.66770846e+12,  4.66770846e+12,\n",
       "        4.66770846e+12, -1.74049044e+12,  4.66770846e+12,  4.66770846e+12,\n",
       "        4.66770846e+12,  3.88390866e+12,  9.00263394e+11,  1.18409082e+12,\n",
       "        4.66770846e+12,  1.25787995e+12,  4.52277001e+11, -4.65237769e+10,\n",
       "        4.66770846e+12,  4.66770846e+12,  1.83273987e+12, -3.18087313e+11,\n",
       "        3.82101594e+12, -3.22523472e+10,  4.66770846e+12,  4.66770846e+12,\n",
       "        4.66770846e+12,  4.66770846e+12, -5.71794292e+11,  4.66770846e+12,\n",
       "       -1.09883823e+12,  1.06187967e+11,  4.66770846e+12, -1.30851030e+11,\n",
       "        4.66770846e+12,  1.24970307e+11,  4.66770846e+12,  4.66770846e+12,\n",
       "        4.66770846e+12,  4.66770846e+12,  1.93986881e+12,  4.11048059e+11,\n",
       "        4.66770846e+12, -7.52309214e+11,  4.66770846e+12,  4.12757046e+11,\n",
       "        4.66770846e+12, -3.56570187e+12, -2.68502409e+11, -1.88181219e+12,\n",
       "        1.63763929e+12,  4.66770846e+12, -2.75605443e+12,  4.66770846e+12,\n",
       "        4.66770846e+12, -5.69247288e+12,  2.90301574e+11,  5.82320014e+11,\n",
       "        1.29785477e+11, -8.19681310e+10,  3.02321906e+10, -1.52476142e+09,\n",
       "        4.66770846e+12,  3.24636453e+08,  4.66770846e+12, -1.97709269e+08,\n",
       "        4.66770846e+12,  5.85414789e+07,  4.66770846e+12, -4.54603598e+06,\n",
       "        4.66770846e+12, -1.09758533e+06,  1.07017010e+04,  1.92974608e+05,\n",
       "        4.66770846e+12,  4.66770846e+12,  4.66770846e+12,  7.44558455e+03,\n",
       "        4.66770846e+12,  4.66770846e+12, -1.17750614e+02,  4.66770846e+12,\n",
       "        4.66770846e+12,  1.35014038e+01,  3.10546875e+00,  4.66770846e+12,\n",
       "        4.66770846e+12,  3.12500000e-02,  4.66770846e+12,  4.66770846e+12,\n",
       "       -3.90625000e-03,  4.66770846e+12, -2.44140625e-04,  4.66770846e+12,\n",
       "        4.66770846e+12,  4.66770846e+12,  4.66770846e+12,  4.66770846e+12,\n",
       "        4.66770846e+12,  4.66770846e+12,  4.66770846e+12,  2.71946192e-06,\n",
       "        1.42361969e-05,  2.37473287e-05,  4.66770846e+12,  4.66770846e+12,\n",
       "       -3.86264583e-05,  4.66770846e+12,  4.66770846e+12,  4.66770846e+12,\n",
       "        4.66770846e+12,  4.66770846e+12,  4.66770846e+12,  8.06012063e-06,\n",
       "        4.55689532e-05,  4.66770846e+12,  2.09926924e-04,  2.55752579e-05,\n",
       "       -5.74575035e-06,  4.66770846e+12,  4.66770846e+12,  4.66770846e+12,\n",
       "        2.37831586e-08, -1.84830640e-09, -5.23586507e-10,  4.66770846e+12,\n",
       "        1.72306613e-12, -1.85451654e-12,  4.66770846e+12,  4.66770846e+12,\n",
       "        4.66770846e+12,  4.66770846e+12,  4.66770846e+12,  4.66770846e+12,\n",
       "        4.66770846e+12,  4.66770846e+12,  4.66770846e+12,  4.66770846e+12,\n",
       "        4.66770846e+12,  2.13162821e-14,  4.66770846e+12,  3.55271368e-15,\n",
       "       -2.84217094e-14,  8.88178420e-15, -2.84217094e-14,  4.66770846e+12,\n",
       "        4.66770846e+12,  4.66770846e+12,  2.13162821e-14,  0.00000000e+00,\n",
       "        1.53409488e+12,  4.66770846e+12,  2.84217094e-14,  4.66770846e+12,\n",
       "        4.66770846e+12,  3.37507799e-14,  4.66770846e+12,  2.48689958e-14,\n",
       "        4.66770846e+12, -1.77635684e-15,  4.66770846e+12,  4.66770846e+12,\n",
       "        4.66770846e+12,  4.66770846e+12,  1.42108547e-14, -2.77555756e-17,\n",
       "       -6.35274710e-22, -1.33790810e-27,  4.66770846e+12,  1.21169035e-27,\n",
       "       -5.25065819e-27,  1.93244025e-28,  4.66770846e+12,  0.00000000e+00,\n",
       "        4.66770846e+12,  4.66770846e+12,  1.41363874e-27, -4.65672527e-29,\n",
       "        1.21169035e-27, -8.07793567e-28,  4.66770846e+12,  8.07793567e-28,\n",
       "       -1.21169035e-27, -9.08915674e-28,  1.00974196e-27, -1.61558713e-27,\n",
       "        4.66770846e+12, -7.06819371e-28, -1.59951870e+12,  3.21855249e-28,\n",
       "       -1.59951870e+12, -1.00974196e-28, -2.71368151e-28, -1.59951870e+12,\n",
       "       -1.21169035e-27,  1.21169035e-27,  1.00974196e-28, -2.52435490e-29,\n",
       "       -8.07793567e-28, -1.61558713e-27,  1.61499857e-27, -1.59951870e+12,\n",
       "       -1.59951870e+12, -1.59951870e+12,  0.00000000e+00, -1.59951870e+12,\n",
       "       -1.59951870e+12, -1.59951870e+12, -1.59951870e+12,  0.00000000e+00,\n",
       "        0.00000000e+00, -1.59951870e+12,  0.00000000e+00,  0.00000000e+00,\n",
       "        0.00000000e+00,  0.00000000e+00, -1.59951870e+12, -1.59951870e+12,\n",
       "        0.00000000e+00,  0.00000000e+00,  0.00000000e+00,  0.00000000e+00,\n",
       "       -1.59951870e+12, -1.59951870e+12, -1.59951870e+12,  0.00000000e+00,\n",
       "        0.00000000e+00,  0.00000000e+00,  0.00000000e+00,  0.00000000e+00,\n",
       "        0.00000000e+00, -1.59951870e+12, -1.59951870e+12, -1.59951870e+12,\n",
       "       -1.59951870e+12, -1.59951870e+12, -1.59951870e+12,  0.00000000e+00,\n",
       "       -1.59951870e+12,  0.00000000e+00,  0.00000000e+00,  0.00000000e+00,\n",
       "        0.00000000e+00,  0.00000000e+00, -1.59951870e+12,  0.00000000e+00,\n",
       "       -1.59951870e+12,  0.00000000e+00, -1.59951870e+12, -1.59951870e+12,\n",
       "       -1.59951870e+12, -1.59951870e+12, -1.59951870e+12,  0.00000000e+00,\n",
       "        0.00000000e+00, -1.59951870e+12,  0.00000000e+00, -1.59951870e+12,\n",
       "        0.00000000e+00,  0.00000000e+00, -1.59951870e+12,  0.00000000e+00,\n",
       "        0.00000000e+00, -1.59951870e+12, -1.59951870e+12,  0.00000000e+00,\n",
       "       -1.59951870e+12, -1.59951870e+12, -1.59951870e+12, -1.59951870e+12,\n",
       "        0.00000000e+00,  0.00000000e+00,  0.00000000e+00, -1.59951870e+12,\n",
       "       -1.59951870e+12,  0.00000000e+00,  0.00000000e+00,  0.00000000e+00,\n",
       "       -1.59951870e+12,  0.00000000e+00,  0.00000000e+00, -1.59951870e+12,\n",
       "        0.00000000e+00, -1.59951870e+12,  0.00000000e+00, -1.59951870e+12,\n",
       "        0.00000000e+00, -1.59951870e+12,  0.00000000e+00,  0.00000000e+00,\n",
       "        0.00000000e+00, -1.59951870e+12,  0.00000000e+00, -1.59951870e+12,\n",
       "        0.00000000e+00,  0.00000000e+00, -1.59951870e+12,  0.00000000e+00,\n",
       "        0.00000000e+00,  0.00000000e+00,  0.00000000e+00,  0.00000000e+00,\n",
       "       -1.59951870e+12, -1.59951870e+12, -1.59951870e+12,  0.00000000e+00,\n",
       "       -1.59951870e+12, -1.59951870e+12,  0.00000000e+00,  0.00000000e+00,\n",
       "        0.00000000e+00,  0.00000000e+00,  0.00000000e+00,  0.00000000e+00,\n",
       "        0.00000000e+00,  0.00000000e+00, -1.59951870e+12, -1.59951870e+12,\n",
       "       -1.59951870e+12, -1.59951870e+12, -1.59951870e+12,  0.00000000e+00,\n",
       "       -1.59951870e+12, -1.59951870e+12, -1.59951870e+12,  0.00000000e+00,\n",
       "       -1.59951870e+12, -1.59951870e+12,  0.00000000e+00,  0.00000000e+00,\n",
       "       -1.59951870e+12,  0.00000000e+00,  0.00000000e+00,  0.00000000e+00,\n",
       "       -1.59951870e+12,  0.00000000e+00, -1.59951870e+12, -1.59951870e+12,\n",
       "        0.00000000e+00, -1.59951870e+12,  1.53409488e+12,  0.00000000e+00,\n",
       "       -1.59951870e+12, -1.59951870e+12, -1.59951870e+12,  0.00000000e+00,\n",
       "        0.00000000e+00,  0.00000000e+00, -1.59951870e+12, -1.59951870e+12,\n",
       "       -1.59951870e+12, -1.59951870e+12, -1.59951870e+12,  0.00000000e+00,\n",
       "       -1.59951870e+12,  0.00000000e+00, -1.59951870e+12,  0.00000000e+00,\n",
       "        0.00000000e+00,  0.00000000e+00,  0.00000000e+00,  0.00000000e+00,\n",
       "       -1.59951870e+12,  0.00000000e+00, -1.59951870e+12, -1.59951870e+12,\n",
       "       -1.59951870e+12,  0.00000000e+00, -1.59951870e+12, -1.59951870e+12,\n",
       "       -1.59951870e+12,  0.00000000e+00,  0.00000000e+00, -1.59951870e+12,\n",
       "       -1.59951870e+12,  0.00000000e+00, -1.59951870e+12,  0.00000000e+00,\n",
       "       -1.59951870e+12,  0.00000000e+00, -1.59951870e+12,  0.00000000e+00,\n",
       "        0.00000000e+00, -1.59951870e+12, -1.59951870e+12, -1.59951870e+12,\n",
       "       -1.59951870e+12, -1.59951870e+12,  0.00000000e+00, -1.59951870e+12,\n",
       "        0.00000000e+00, -1.59951870e+12, -1.59951870e+12, -1.59951870e+12,\n",
       "       -1.59951870e+12,  0.00000000e+00, -1.59951870e+12, -1.59951870e+12,\n",
       "       -1.59951870e+12,  0.00000000e+00,  0.00000000e+00, -1.59951870e+12,\n",
       "       -1.59951870e+12, -1.59951870e+12,  0.00000000e+00, -1.59951870e+12,\n",
       "       -1.59951870e+12, -1.59951870e+12, -1.59951870e+12,  0.00000000e+00,\n",
       "       -1.59951870e+12,  0.00000000e+00,  0.00000000e+00, -1.59951870e+12,\n",
       "        0.00000000e+00,  0.00000000e+00,  0.00000000e+00, -1.59951870e+12,\n",
       "       -1.59951870e+12,  0.00000000e+00, -1.59951870e+12,  0.00000000e+00,\n",
       "       -1.59951870e+12, -1.59951870e+12,  0.00000000e+00,  0.00000000e+00,\n",
       "       -1.59951870e+12,  0.00000000e+00, -1.59951870e+12, -1.59951870e+12,\n",
       "       -1.59951870e+12,  0.00000000e+00,  0.00000000e+00, -1.59951870e+12,\n",
       "       -1.59951870e+12, -1.59951870e+12, -1.59951870e+12, -1.59951870e+12,\n",
       "        0.00000000e+00, -1.59951870e+12,  0.00000000e+00,  0.00000000e+00,\n",
       "       -1.59951870e+12, -1.59951870e+12, -1.59951870e+12, -1.59951870e+12,\n",
       "       -1.59951870e+12,  0.00000000e+00,  1.12832096e+12, -1.59951870e+12,\n",
       "        0.00000000e+00, -1.59951870e+12, -1.59951870e+12,  0.00000000e+00,\n",
       "       -1.59951870e+12,  0.00000000e+00, -1.59951870e+12,  0.00000000e+00,\n",
       "        0.00000000e+00, -1.59951870e+12, -1.59951870e+12,  0.00000000e+00,\n",
       "        0.00000000e+00,  0.00000000e+00,  0.00000000e+00, -1.59951870e+12,\n",
       "       -1.59951870e+12, -1.59951870e+12,  0.00000000e+00, -1.59951870e+12,\n",
       "        0.00000000e+00, -1.59951870e+12, -1.59951870e+12, -1.59951870e+12,\n",
       "        0.00000000e+00, -1.59951870e+12,  0.00000000e+00, -1.59951870e+12,\n",
       "        0.00000000e+00, -1.59951870e+12,  0.00000000e+00,  0.00000000e+00,\n",
       "       -1.59951870e+12,  0.00000000e+00,  0.00000000e+00, -1.59951870e+12])"
      ]
     },
     "execution_count": 76,
     "metadata": {},
     "output_type": "execute_result"
    }
   ],
   "source": [
    "regr.coef_"
   ]
  },
  {
   "cell_type": "markdown",
   "metadata": {
    "collapsed": true
   },
   "source": [
    "Для решения описанных вами в предыдущем пункте проблем используем L1- или L2-регуляризацию, тем самым получив Lasso и Ridge регрессии соответственно и изменив оптимизационную задачу одним из следующих образов:\n",
    "$$MSE_{L1}(X, y) = \\frac{1}{l} \\sum_{i=1}^l (<w, x_i> - y_i)^2 + \\alpha ||w||_1 \\to \\min_{w},$$\n",
    "$$MSE_{L2}(X, y) = \\frac{1}{l} \\sum_{i=1}^l (<w, x_i> - y_i)^2 + \\alpha ||w||_2^2 \\to \\min_{w},$$\n",
    "\n",
    "где $\\alpha$ — коэффициент регуляризации. Один из способов его подбора заключается в переборе некоторого количества значений и оценке качества на кросс-валидации для каждого из них, после чего выбирается значение, для которого было получено наилучшее качество."
   ]
  },
  {
   "cell_type": "markdown",
   "metadata": {},
   "source": [
    "__18. (1 балл) __ Обучение линейной регрессии.\n",
    "\n",
    "\n",
    "\n",
    "Обучите линейную регрессию с $L_1$ (Lasso) и $L_2$ (Ridge) регуляризаторами (используйте параметры по умолчанию). Посмотрите, какое количество коэффициентов близко к 0 (степень близости к 0 определите сами из разумных пределов). Постройте график зависимости числа ненулевых коэффициентов от коэффицента регуляризации (перебирайте значения по логарифмической сетке от $10^{-3}$ до $10^3$). Согласуются ли результаты с вашими ожиданиями?"
   ]
  },
  {
   "cell_type": "code",
   "execution_count": 77,
   "metadata": {},
   "outputs": [],
   "source": [
    "from sklearn.linear_model import Lasso\n",
    "from sklearn.linear_model import Ridge"
   ]
  },
  {
   "cell_type": "code",
   "execution_count": 79,
   "metadata": {},
   "outputs": [
    {
     "name": "stdout",
     "output_type": "stream",
     "text": [
      "Zero weights in Lasso: 624\n",
      "Zero weights in Ridge: 290\n"
     ]
    }
   ],
   "source": [
    "model_lasso = Lasso().fit(x_train_part, y_train_part)\n",
    "model_ridge = Ridge().fit(x_train_part, y_train_part)\n",
    "\n",
    "lasso_zeros = np.sum(model_lasso.coef_ == 0)\n",
    "ridge_zeros = np.sum(model_ridge.coef_ == 0)\n",
    "print('Zero weights in Lasso:', lasso_zeros)\n",
    "print('Zero weights in Ridge:', ridge_zeros)"
   ]
  },
  {
   "cell_type": "code",
   "execution_count": 80,
   "metadata": {},
   "outputs": [],
   "source": [
    "import matplotlib.pyplot as plt"
   ]
  },
  {
   "cell_type": "code",
   "execution_count": 81,
   "metadata": {},
   "outputs": [
    {
     "name": "stderr",
     "output_type": "stream",
     "text": [
      "C:\\Users\\Daria\\anaconda3\\lib\\site-packages\\sklearn\\linear_model\\_coordinate_descent.py:529: ConvergenceWarning: Objective did not converge. You might want to increase the number of iterations. Duality gap: 289833.69582750305, tolerance: 122.58634040000001\n",
      "  model = cd_fast.enet_coordinate_descent(\n",
      "C:\\Users\\Daria\\anaconda3\\lib\\site-packages\\sklearn\\linear_model\\_coordinate_descent.py:529: ConvergenceWarning: Objective did not converge. You might want to increase the number of iterations. Duality gap: 267582.8274448623, tolerance: 122.58634040000001\n",
      "  model = cd_fast.enet_coordinate_descent(\n",
      "C:\\Users\\Daria\\anaconda3\\lib\\site-packages\\sklearn\\linear_model\\_coordinate_descent.py:529: ConvergenceWarning: Objective did not converge. You might want to increase the number of iterations. Duality gap: 220920.975896249, tolerance: 122.58634040000001\n",
      "  model = cd_fast.enet_coordinate_descent(\n",
      "C:\\Users\\Daria\\anaconda3\\lib\\site-packages\\sklearn\\linear_model\\_coordinate_descent.py:529: ConvergenceWarning: Objective did not converge. You might want to increase the number of iterations. Duality gap: 132166.495557728, tolerance: 122.58634040000001\n",
      "  model = cd_fast.enet_coordinate_descent(\n",
      "C:\\Users\\Daria\\anaconda3\\lib\\site-packages\\sklearn\\linear_model\\_coordinate_descent.py:529: ConvergenceWarning: Objective did not converge. You might want to increase the number of iterations. Duality gap: 26906.0507017427, tolerance: 122.58634040000001\n",
      "  model = cd_fast.enet_coordinate_descent(\n"
     ]
    },
    {
     "data": {
      "text/plain": [
       "Text(0, 0.5, 'Ridge not zeros')"
      ]
     },
     "execution_count": 81,
     "metadata": {},
     "output_type": "execute_result"
    },
    {
     "data": {
      "image/png": "[encoded data removed]",
      "text/plain": [
       "<Figure size 1080x360 with 2 Axes>"
      ]
     },
     "metadata": {},
     "output_type": "display_data"
    }
   ],
   "source": [
    "alphas = np.logspace(-3, 3, 20)\n",
    "lasso_not_zeros = list()\n",
    "ridge_not_zeros = list()\n",
    "for i in range(len(alphas)):\n",
    "    model_lasso_alph = Lasso(alphas[i]).fit(x_train_part, y_train_part)\n",
    "    model_ridge_alph = Ridge(alphas[i]).fit(x_train_part, y_train_part)\n",
    "    lasso_not_zeros.append(np.sum(model_lasso_alph.coef_ != 0))\n",
    "    ridge_not_zeros.append(np.sum(model_ridge_alph.coef_ != 0))\n",
    "\n",
    "plt.figure(figsize=(15, 5))\n",
    "\n",
    "plt.subplot(1, 2, 1)\n",
    "plt.plot(alphas, lasso_not_zeros, color = 'mediumblue')\n",
    "plt.xscale('log')\n",
    "plt.xlabel('alpha', fontsize=13)\n",
    "plt.ylabel('Lasso not zeros', fontsize=13)\n",
    "\n",
    "plt.subplot(1, 2, 2)\n",
    "plt.plot(alphas, ridge_not_zeros, color = 'darkcyan')\n",
    "plt.xscale('log')\n",
    "plt.xlabel('alpha', fontsize=13)\n",
    "plt.ylabel('Ridge not zeros', fontsize=13)"
   ]
  },
  {
   "cell_type": "markdown",
   "metadata": {},
   "source": [
    "Посчитайте для Ridge-регрессии следующие метрики: $RMSE$, $MAE$, $R^2$."
   ]
  },
  {
   "cell_type": "code",
   "execution_count": 83,
   "metadata": {},
   "outputs": [],
   "source": [
    "from sklearn.metrics import mean_absolute_error\n",
    "from sklearn.metrics import make_scorer\n",
    "\n",
    "def rmse(y_true, y_pred):\n",
    "    error = (y_true - y_pred) ** 2\n",
    "    return np.sqrt(np.mean(error))\n",
    "\n",
    "rmse_scorer = make_scorer(\n",
    "    rmse,\n",
    "    greater_is_better=False)"
   ]
  },
  {
   "cell_type": "markdown",
   "metadata": {},
   "source": [
    "Предсказание для тестовой выборки"
   ]
  },
  {
   "cell_type": "code",
   "execution_count": 84,
   "metadata": {},
   "outputs": [
    {
     "name": "stdout",
     "output_type": "stream",
     "text": [
      "RMSE: 37.50670876079011 \n",
      "MAE: 21.25851613343453 \n",
      "R^2: -0.09458323078032449\n"
     ]
    }
   ],
   "source": [
    "y_ridge_pred = model_ridge.predict(x_test)\n",
    "\n",
    "print('RMSE:', rmse(y_test, y_ridge_pred), '\\n' 'MAE:', mean_absolute_error(y_test, y_ridge_pred), '\\n' 'R^2:', \\\n",
    "      r2_score(y_test, y_ridge_pred))"
   ]
  },
  {
   "cell_type": "markdown",
   "metadata": {},
   "source": [
    "Подберите на обучающей выборке для Ridge-регрессии коэффициент регуляризации (перебирайте значения по логарифмической сетке от $10^{-3}$ до $10^3$) для каждой из метрик при помощи кросс-валидации c 5 фолдами на тех же 1000 объектах. Для этого воспользуйтесь GridSearchCV и KFold из sklearn. Постройте графики зависимости фукнции потерь от коэффициента регуляризации. Посчитайте те же метрики снова. Заметно ли изменилось качество?\n",
    "\n",
    "Для выполнения данного задания вам могут понадобиться реализованные в библиотеке объекты [LassoCV](http://scikit-learn.org/stable/modules/generated/sklearn.linear_model.LassoCV.html), [RidgeCV](http://scikit-learn.org/stable/modules/generated/sklearn.linear_model.RidgeCV.html) и [KFold](http://scikit-learn.org/stable/modules/generated/sklearn.cross_validation.KFold.html)."
   ]
  },
  {
   "cell_type": "code",
   "execution_count": 103,
   "metadata": {},
   "outputs": [
    {
     "name": "stdout",
     "output_type": "stream",
     "text": [
      "Best alpha = 26.3665\n",
      "Best alpha = 26.3665\n",
      "Best alpha = 54.5559\n"
     ]
    },
    {
     "data": {
      "text/plain": [
       "Text(47.0, 0.5, 'CV score r^2')"
      ]
     },
     "execution_count": 103,
     "metadata": {},
     "output_type": "execute_result"
    },
    {
     "data": {
      "image/png": "[encoded data removed]",
      "text/plain": [
       "<Figure size 576x720 with 3 Axes>"
      ]
     },
     "metadata": {},
     "output_type": "display_data"
    }
   ],
   "source": [
    "from sklearn.model_selection import GridSearchCV\n",
    "\n",
    "parametrs = {'alpha': alphas}\n",
    "\n",
    "\n",
    "searcher_rmse = GridSearchCV(Ridge(), parametrs, scoring=rmse_scorer, cv=5).fit(x_train_part, y_train_part)\n",
    "searcher_mae = GridSearchCV(Ridge(), parametrs, scoring='neg_mean_absolute_error', cv=5).fit(x_train_part, y_train_part)\n",
    "searcher_rsqv = GridSearchCV(Ridge(), parametrs, scoring='r2', cv=5).fit(x_train_part, y_train_part)\n",
    "\n",
    "best_alpha_rmse = searcher_rmse.best_params_['alpha']\n",
    "best_alpha_mae = searcher_mae.best_params_['alpha']\n",
    "best_alpha_rsqv = searcher_rsqv.best_params_['alpha']\n",
    "print(\"Best alpha = %.4f\" % best_alpha_rmse)\n",
    "print(\"Best alpha = %.4f\" % best_alpha_mae)\n",
    "print(\"Best alpha = %.4f\" % best_alpha_rsqv)\n",
    "\n",
    "fig, (ax1, ax2, ax3) = plt.subplots(3, figsize=(8, 10))\n",
    "fig.tight_layout(h_pad=2)\n",
    "\n",
    "ax1.plot(alphas, -searcher_rmse.cv_results_[\"mean_test_score\"], color = 'blue')\n",
    "ax1.set_xscale(\"log\")\n",
    "ax1.set_xlabel(\"alpha\", fontsize = 14)\n",
    "ax1.set_ylabel(\"CV score rmse\", fontsize = 14)\n",
    "\n",
    "ax2.plot(alphas, -searcher_mae.cv_results_[\"mean_test_score\"], color = 'SkyBlue' )\n",
    "ax2.set_xscale(\"log\")\n",
    "ax2.set_xlabel(\"alpha\", fontsize = 14)\n",
    "ax2.set_ylabel(\"CV score mae\", fontsize = 14)\n",
    "\n",
    "ax3.plot(alphas, -searcher_rsqv.cv_results_[\"mean_test_score\"], color = 'lightblue')\n",
    "ax3.set_xscale(\"log\")\n",
    "ax3.set_xlabel(\"alpha\", fontsize = 14)\n",
    "ax3.set_ylabel(\"CV score r^2\", fontsize = 14)"
   ]
  },
  {
   "cell_type": "code",
   "execution_count": 86,
   "metadata": {},
   "outputs": [],
   "source": [
    "model_ridge_rmse = Ridge(best_alpha_rmse).fit(x_train_part, y_train_part)\n",
    "model_ridge_mae = Ridge(best_alpha_mae).fit(x_train_part, y_train_part)\n",
    "model_ridge_rsqv = Ridge(best_alpha_rsqv).fit(x_train_part, y_train_part)"
   ]
  },
  {
   "cell_type": "markdown",
   "metadata": {},
   "source": [
    "Предсказание для тестовой выборки"
   ]
  },
  {
   "cell_type": "code",
   "execution_count": 87,
   "metadata": {},
   "outputs": [
    {
     "name": "stdout",
     "output_type": "stream",
     "text": [
      "RMSE: 34.49988365744824 \n",
      "MAE: 18.958660160999663 \n",
      "R^2: 0.07322198818631576\n"
     ]
    }
   ],
   "source": [
    "y_ridge_pred_rmse = model_ridge_rmse.predict(x_test)\n",
    "y_ridge_pred_mae = model_ridge_mae.predict(x_test)\n",
    "y_ridge_pred_rsqv = model_ridge_rsqv.predict(x_test)\n",
    "\n",
    "print('RMSE:', rmse(y_test, y_ridge_pred_rmse), '\\n' 'MAE:', mean_absolute_error(y_test, y_ridge_pred_mae), '\\n' 'R^2:', \\\n",
    "      r2_score(y_test, y_ridge_pred_rsqv))"
   ]
  },
  {
   "cell_type": "markdown",
   "metadata": {},
   "source": [
    "Качество изменилось в положительную сторону"
   ]
  },
  {
   "cell_type": "markdown",
   "metadata": {
    "collapsed": true
   },
   "source": [
    "__19. (0.5 балла)__ Поиск объектов-выбросов\n",
    "\n",
    "\n",
    "Как известно, MSE сильно штрафует за большие ошибки на объектах-выбросах. С помощью cross_val_predict сделайте Out-of-Fold предсказания для обучающей выборки. Посчитайте ошибки и посмотрите на их распределение (plt.hist). Что вы видите?"
   ]
  },
  {
   "cell_type": "code",
   "execution_count": 88,
   "metadata": {},
   "outputs": [],
   "source": [
    "from sklearn.model_selection import cross_val_predict"
   ]
  },
  {
   "cell_type": "code",
   "execution_count": 94,
   "metadata": {},
   "outputs": [
    {
     "data": {
      "text/plain": [
       "Text(0.5, 0, 'Ошибка')"
      ]
     },
     "execution_count": 94,
     "metadata": {},
     "output_type": "execute_result"
    },
    {
     "data": {
      "image/png": "[encoded data removed]",
      "text/plain": [
       "<Figure size 720x360 with 1 Axes>"
      ]
     },
     "metadata": {},
     "output_type": "display_data"
    }
   ],
   "source": [
    "pred_train = cross_val_predict(Ridge(), x_train, y_train)\n",
    "error = np.abs(y_train - pred_train)\n",
    "\n",
    "fig, ax = plt.subplots(figsize=(10, 5))\n",
    "\n",
    "ax.hist(error, facecolor = 'blue')\n",
    "ax.set_xlabel('Ошибка', fontsize=14)"
   ]
  },
  {
   "cell_type": "code",
   "execution_count": 92,
   "metadata": {},
   "outputs": [
    {
     "name": "stdout",
     "output_type": "stream",
     "text": [
      "44382\n"
     ]
    }
   ],
   "source": [
    "print(len(y_train))"
   ]
  },
  {
   "cell_type": "markdown",
   "metadata": {},
   "source": [
    "Из графика видно, что предсказания происходят с ошибкой,\n",
    "для большинства из них ошибка по абсолютному значению составляет примерно до 100."
   ]
  },
  {
   "cell_type": "markdown",
   "metadata": {},
   "source": [
    "## Вывод"
   ]
  },
  {
   "cell_type": "markdown",
   "metadata": {},
   "source": [
    "Обрабатывать данные можно и мы немного научились это делать, но это соложно ;("
   ]
  }
 ],
 "metadata": {
  "kernelspec": {
   "display_name": "Python 3",
   "language": "python",
   "name": "python3"
  },
  "language_info": {
   "codemirror_mode": {
    "name": "ipython",
    "version": 3
   },
   "file_extension": ".py",
   "mimetype": "text/x-python",
   "name": "python",
   "nbconvert_exporter": "python",
   "pygments_lexer": "ipython3",
   "version": "3.8.5"
  }
 },
 "nbformat": 4,
 "nbformat_minor": 1
}
